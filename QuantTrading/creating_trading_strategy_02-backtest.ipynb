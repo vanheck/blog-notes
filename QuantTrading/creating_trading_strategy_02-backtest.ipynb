{
 "cells": [
  {
   "cell_type": "markdown",
   "metadata": {},
   "source": [
    "# Tvorba obchodní strategie - backtest"
   ]
  },
  {
   "cell_type": "markdown",
   "metadata": {},
   "source": [
    "## Informace o notebooku a modulech"
   ]
  },
  {
   "cell_type": "code",
   "execution_count": 4,
   "metadata": {},
   "outputs": [
    {
     "name": "stdout",
     "output_type": "stream",
     "text": [
      "Verze notebooku: 1.0\n",
      "Verze pythonu: 3.6.2\n",
      "---\n",
      "NumPy: 1.13.1\n",
      "Pandas: 0.20.3\n",
      "pandas-datareader: 0.5.0\n",
      "Matplotlib: 2.0.2\n"
     ]
    }
   ],
   "source": [
    "NB_VERSION = 1,0\n",
    "\n",
    "import sys\n",
    "import datetime\n",
    "import numpy as np\n",
    "import pandas as pd\n",
    "print('Verze notebooku:', '.'.join(map(str, NB_VERSION)))\n",
    "print('Verze pythonu:', '.'.join(map(str, sys.version_info[0:3])))\n",
    "print('---')\n",
    "\n",
    "import pandas_datareader as pdr\n",
    "import pandas_datareader.data as pdr_web\n",
    "from matplotlib import __version__ as matplotlib_version\n",
    "\n",
    "\n",
    "print('NumPy:', np.__version__)\n",
    "print('Pandas:', pd.__version__)\n",
    "print('pandas-datareader:', pdr.__version__)\n",
    "print('Matplotlib:', matplotlib_version)"
   ]
  },
  {
   "cell_type": "markdown",
   "metadata": {
    "collapsed": true
   },
   "source": [
    "# Základní komponenty pro automatický obchodní systém\n",
    "\n",
    "- `Data handler`, který funguje jako prostředík, který se stará o data\n",
    "- `Strategy` - strategie, která generuje nákupní signály dle jednotlivých dat z `data handleru`\n",
    "- `Portfolio`, které generuje příkazy a spravuje zisk nebo ztrátu (známé jako PnL, od Profit & Loss)\n",
    "- `Execution handler`, který odesílá příkazy brokerovi a zpracovává odpovědi, které získá jako odpověď (tzv. fills)\n",
    "\n",
    "Prvními dvěma body jsem se zabýval v minulých příspěvcích. Teď je na řadě `Portfolio`. Tento článek se bude zabývat jak si **sestavím jednoduché portfolio** a zároveň ho pustím na historických datech a získám tzv. **backtest**.\n",
    "\n",
    "\n",
    "## Backtest\n",
    "\n",
    "Backtest je testování strategie na relevatních historických datech. Backtest mi může ve velmi krátkém čase poskytnout informaci, zda je vhodné se dál zaměřit na danou myšlenku obchodní strategie a více ji rozvíjet, a nebo se tímto stylem dál vůbec zabývat."
   ]
  },
  {
   "cell_type": "markdown",
   "metadata": {},
   "source": [
    "### 1. Získání dat a signálů strategie\n",
    "\n",
    "Získám data akciového indexu společnosti *Apple* a vytvořím obchodní signály. *Celý kód jsem převzal z minulého příspěvku* [Tvorby obchodní strategie](https://vanheckblog.blogspot.cz/2017/08/tvorba-obchodni-strategie-krizeni.html). "
   ]
  },
  {
   "cell_type": "code",
   "execution_count": 5,
   "metadata": {
    "scrolled": true
   },
   "outputs": [
    {
     "data": {
      "text/html": [
       "<div>\n",
       "<style>\n",
       "    .dataframe thead tr:only-child th {\n",
       "        text-align: right;\n",
       "    }\n",
       "\n",
       "    .dataframe thead th {\n",
       "        text-align: left;\n",
       "    }\n",
       "\n",
       "    .dataframe tbody tr th {\n",
       "        vertical-align: top;\n",
       "    }\n",
       "</style>\n",
       "<table border=\"1\" class=\"dataframe\">\n",
       "  <thead>\n",
       "    <tr style=\"text-align: right;\">\n",
       "      <th></th>\n",
       "      <th>signal</th>\n",
       "      <th>short_sma</th>\n",
       "      <th>long_sma</th>\n",
       "      <th>positions</th>\n",
       "    </tr>\n",
       "    <tr>\n",
       "      <th>Date</th>\n",
       "      <th></th>\n",
       "      <th></th>\n",
       "      <th></th>\n",
       "      <th></th>\n",
       "    </tr>\n",
       "  </thead>\n",
       "  <tbody>\n",
       "    <tr>\n",
       "      <th>2008-07-28</th>\n",
       "      <td>1.0</td>\n",
       "      <td>24.463333</td>\n",
       "      <td>24.299111</td>\n",
       "      <td>0.0</td>\n",
       "    </tr>\n",
       "    <tr>\n",
       "      <th>2008-07-29</th>\n",
       "      <td>1.0</td>\n",
       "      <td>24.369333</td>\n",
       "      <td>24.336889</td>\n",
       "      <td>0.0</td>\n",
       "    </tr>\n",
       "    <tr>\n",
       "      <th>2008-07-30</th>\n",
       "      <td>0.0</td>\n",
       "      <td>24.266667</td>\n",
       "      <td>24.369222</td>\n",
       "      <td>-1.0</td>\n",
       "    </tr>\n",
       "    <tr>\n",
       "      <th>2008-07-31</th>\n",
       "      <td>0.0</td>\n",
       "      <td>24.172333</td>\n",
       "      <td>24.397778</td>\n",
       "      <td>0.0</td>\n",
       "    </tr>\n",
       "  </tbody>\n",
       "</table>\n",
       "</div>"
      ],
      "text/plain": [
       "            signal  short_sma   long_sma  positions\n",
       "Date                                               \n",
       "2008-07-28     1.0  24.463333  24.299111        0.0\n",
       "2008-07-29     1.0  24.369333  24.336889        0.0\n",
       "2008-07-30     0.0  24.266667  24.369222       -1.0\n",
       "2008-07-31     0.0  24.172333  24.397778        0.0"
      ]
     },
     "execution_count": 5,
     "metadata": {},
     "output_type": "execute_result"
    }
   ],
   "source": [
    "start_date = datetime.datetime(2008, 1, 1)\n",
    "end_date = datetime.datetime.now()\n",
    "short_period = 30\n",
    "long_period = 90\n",
    "ohlc_data = pdr_web.DataReader(\"AAPL\", 'google', start=start_date, end=end_date)\n",
    "signals = pd.DataFrame(index=ohlc_data.index)\n",
    "signals['signal'] = 0.0\n",
    "signals['short_sma'] = ohlc_data['Close'].rolling(window=short_period, min_periods=1, center=False).mean()\n",
    "signals['long_sma'] = ohlc_data['Close'].rolling(window=long_period, min_periods=1, center=False).mean()\n",
    "signals['signal'][short_period:] = np.where(signals['short_sma'][short_period:] \n",
    "                                            > signals['long_sma'][short_period:], 1.0, 0.0)   \n",
    "signals['positions'] = signals['signal'].diff()\n",
    "signals.iloc[73:78] # pozice +1.0\n",
    "signals.iloc[143:147] # pozice -1.0"
   ]
  },
  {
   "cell_type": "markdown",
   "metadata": {},
   "source": [
    "### 2. Nastavím počáteční kapitál\n",
    "\n",
    "A připravím `DataFrame` pro pozice, indexy na něm nastavím stejné, jako ve vygenerovaných signálech."
   ]
  },
  {
   "cell_type": "code",
   "execution_count": 6,
   "metadata": {},
   "outputs": [
    {
     "name": "stdout",
     "output_type": "stream",
     "text": [
      "100000.0 $\n"
     ]
    },
    {
     "data": {
      "text/html": [
       "<div>\n",
       "<style>\n",
       "    .dataframe thead tr:only-child th {\n",
       "        text-align: right;\n",
       "    }\n",
       "\n",
       "    .dataframe thead th {\n",
       "        text-align: left;\n",
       "    }\n",
       "\n",
       "    .dataframe tbody tr th {\n",
       "        vertical-align: top;\n",
       "    }\n",
       "</style>\n",
       "<table border=\"1\" class=\"dataframe\">\n",
       "  <thead>\n",
       "    <tr style=\"text-align: right;\">\n",
       "      <th></th>\n",
       "    </tr>\n",
       "    <tr>\n",
       "      <th>Date</th>\n",
       "    </tr>\n",
       "  </thead>\n",
       "  <tbody>\n",
       "    <tr>\n",
       "      <th>2008-01-02</th>\n",
       "    </tr>\n",
       "    <tr>\n",
       "      <th>2008-01-03</th>\n",
       "    </tr>\n",
       "    <tr>\n",
       "      <th>2008-01-04</th>\n",
       "    </tr>\n",
       "  </tbody>\n",
       "</table>\n",
       "</div>"
      ],
      "text/plain": [
       "Empty DataFrame\n",
       "Columns: []\n",
       "Index: [2008-01-02 00:00:00, 2008-01-03 00:00:00, 2008-01-04 00:00:00]"
      ]
     },
     "execution_count": 6,
     "metadata": {},
     "output_type": "execute_result"
    }
   ],
   "source": [
    "# Počáteční kapitál\n",
    "initial_capital= float(100000.0)\n",
    "print(f'{initial_capital} $')\n",
    "\n",
    "# Příprava DataFramu\n",
    "positions = pd.DataFrame(index=signals.index).fillna(0.0)\n",
    "positions.head(3)"
   ]
  },
  {
   "cell_type": "markdown",
   "metadata": {},
   "source": [
    "### 3. Nasimuluji nákup 100 akcií daného indexu\n",
    "\n",
    "Definuji si svůj objem 100 akcií, které chci koupit při překřížení klouzavého průměru. Následně vynásobím tento objem se získanými signály. V `positions['AAPL']` pak budu mít držený objem pro daný den."
   ]
  },
  {
   "cell_type": "code",
   "execution_count": 7,
   "metadata": {},
   "outputs": [],
   "source": [
    "# definovaný objem\n",
    "lots = 100\n",
    "\n",
    "# Nákup o objemu 100\n",
    "positions['AAPL'] = lots * signals['signal']"
   ]
  },
  {
   "cell_type": "markdown",
   "metadata": {},
   "source": [
    "**Pro názornost - nákup:**\n",
    "\n",
    "100 akcií nakoupím 18.4.2008 a budu je dále držet."
   ]
  },
  {
   "cell_type": "code",
   "execution_count": 8,
   "metadata": {},
   "outputs": [
    {
     "data": {
      "text/html": [
       "<div>\n",
       "<style>\n",
       "    .dataframe thead tr:only-child th {\n",
       "        text-align: right;\n",
       "    }\n",
       "\n",
       "    .dataframe thead th {\n",
       "        text-align: left;\n",
       "    }\n",
       "\n",
       "    .dataframe tbody tr th {\n",
       "        vertical-align: top;\n",
       "    }\n",
       "</style>\n",
       "<table border=\"1\" class=\"dataframe\">\n",
       "  <thead>\n",
       "    <tr style=\"text-align: right;\">\n",
       "      <th></th>\n",
       "      <th>AAPL</th>\n",
       "    </tr>\n",
       "    <tr>\n",
       "      <th>Date</th>\n",
       "      <th></th>\n",
       "    </tr>\n",
       "  </thead>\n",
       "  <tbody>\n",
       "    <tr>\n",
       "      <th>2008-04-16</th>\n",
       "      <td>0.0</td>\n",
       "    </tr>\n",
       "    <tr>\n",
       "      <th>2008-04-17</th>\n",
       "      <td>0.0</td>\n",
       "    </tr>\n",
       "    <tr>\n",
       "      <th>2008-04-18</th>\n",
       "      <td>100.0</td>\n",
       "    </tr>\n",
       "    <tr>\n",
       "      <th>2008-04-21</th>\n",
       "      <td>100.0</td>\n",
       "    </tr>\n",
       "  </tbody>\n",
       "</table>\n",
       "</div>"
      ],
      "text/plain": [
       "             AAPL\n",
       "Date             \n",
       "2008-04-16    0.0\n",
       "2008-04-17    0.0\n",
       "2008-04-18  100.0\n",
       "2008-04-21  100.0"
      ]
     },
     "execution_count": 8,
     "metadata": {},
     "output_type": "execute_result"
    }
   ],
   "source": [
    "# vizualizace nákupu\n",
    "positions.iloc[72:76] # signál = +1.0"
   ]
  },
  {
   "cell_type": "markdown",
   "metadata": {},
   "source": [
    "**Pro názornost - prodej:**\n",
    "\n",
    "Následně 30.7.2008 svoji pozici odprodám a nebudu držet žádné akcie."
   ]
  },
  {
   "cell_type": "code",
   "execution_count": 9,
   "metadata": {},
   "outputs": [
    {
     "data": {
      "text/html": [
       "<div>\n",
       "<style>\n",
       "    .dataframe thead tr:only-child th {\n",
       "        text-align: right;\n",
       "    }\n",
       "\n",
       "    .dataframe thead th {\n",
       "        text-align: left;\n",
       "    }\n",
       "\n",
       "    .dataframe tbody tr th {\n",
       "        vertical-align: top;\n",
       "    }\n",
       "</style>\n",
       "<table border=\"1\" class=\"dataframe\">\n",
       "  <thead>\n",
       "    <tr style=\"text-align: right;\">\n",
       "      <th></th>\n",
       "      <th>AAPL</th>\n",
       "    </tr>\n",
       "    <tr>\n",
       "      <th>Date</th>\n",
       "      <th></th>\n",
       "    </tr>\n",
       "  </thead>\n",
       "  <tbody>\n",
       "    <tr>\n",
       "      <th>2008-07-28</th>\n",
       "      <td>100.0</td>\n",
       "    </tr>\n",
       "    <tr>\n",
       "      <th>2008-07-29</th>\n",
       "      <td>100.0</td>\n",
       "    </tr>\n",
       "    <tr>\n",
       "      <th>2008-07-30</th>\n",
       "      <td>0.0</td>\n",
       "    </tr>\n",
       "    <tr>\n",
       "      <th>2008-07-31</th>\n",
       "      <td>0.0</td>\n",
       "    </tr>\n",
       "  </tbody>\n",
       "</table>\n",
       "</div>"
      ],
      "text/plain": [
       "             AAPL\n",
       "Date             \n",
       "2008-07-28  100.0\n",
       "2008-07-29  100.0\n",
       "2008-07-30    0.0\n",
       "2008-07-31    0.0"
      ]
     },
     "execution_count": 9,
     "metadata": {},
     "output_type": "execute_result"
    }
   ],
   "source": [
    "# vizualizace zpětného prodeje\n",
    "positions.iloc[143:147] # signál = 0.0"
   ]
  },
  {
   "cell_type": "markdown",
   "metadata": {},
   "source": [
    "### 4. Vývoj hodnoty nakoupených akcií Apple\n",
    "\n",
    "Vynásobím drženou pozici akcií, zavírací cenou každého dne, abych získal, jakou hodnotu má moje investice na konci každého dne. Výsledek si uložím jako své `portfolio`."
   ]
  },
  {
   "cell_type": "code",
   "execution_count": 10,
   "metadata": {},
   "outputs": [
    {
     "data": {
      "text/html": [
       "<div>\n",
       "<style>\n",
       "    .dataframe thead tr:only-child th {\n",
       "        text-align: right;\n",
       "    }\n",
       "\n",
       "    .dataframe thead th {\n",
       "        text-align: left;\n",
       "    }\n",
       "\n",
       "    .dataframe tbody tr th {\n",
       "        vertical-align: top;\n",
       "    }\n",
       "</style>\n",
       "<table border=\"1\" class=\"dataframe\">\n",
       "  <thead>\n",
       "    <tr style=\"text-align: right;\">\n",
       "      <th></th>\n",
       "      <th>AAPL</th>\n",
       "    </tr>\n",
       "    <tr>\n",
       "      <th>Date</th>\n",
       "      <th></th>\n",
       "    </tr>\n",
       "  </thead>\n",
       "  <tbody>\n",
       "    <tr>\n",
       "      <th>2008-04-16</th>\n",
       "      <td>0.0</td>\n",
       "    </tr>\n",
       "    <tr>\n",
       "      <th>2008-04-17</th>\n",
       "      <td>0.0</td>\n",
       "    </tr>\n",
       "    <tr>\n",
       "      <th>2008-04-18</th>\n",
       "      <td>2301.0</td>\n",
       "    </tr>\n",
       "    <tr>\n",
       "      <th>2008-04-21</th>\n",
       "      <td>2402.0</td>\n",
       "    </tr>\n",
       "    <tr>\n",
       "      <th>2008-04-22</th>\n",
       "      <td>2289.0</td>\n",
       "    </tr>\n",
       "    <tr>\n",
       "      <th>2008-04-23</th>\n",
       "      <td>2327.0</td>\n",
       "    </tr>\n",
       "    <tr>\n",
       "      <th>2008-04-24</th>\n",
       "      <td>2413.0</td>\n",
       "    </tr>\n",
       "    <tr>\n",
       "      <th>2008-04-25</th>\n",
       "      <td>2425.0</td>\n",
       "    </tr>\n",
       "  </tbody>\n",
       "</table>\n",
       "</div>"
      ],
      "text/plain": [
       "              AAPL\n",
       "Date              \n",
       "2008-04-16     0.0\n",
       "2008-04-17     0.0\n",
       "2008-04-18  2301.0\n",
       "2008-04-21  2402.0\n",
       "2008-04-22  2289.0\n",
       "2008-04-23  2327.0\n",
       "2008-04-24  2413.0\n",
       "2008-04-25  2425.0"
      ]
     },
     "execution_count": 10,
     "metadata": {},
     "output_type": "execute_result"
    }
   ],
   "source": [
    "# Výpočet vývoje hodnoty nakoupených akcií\n",
    "portfolio = positions.multiply(ohlc_data['Close'], axis=0)\n",
    "portfolio.iloc[72:80]"
   ]
  },
  {
   "cell_type": "markdown",
   "metadata": {},
   "source": [
    "### 5. Získání velikosti pozice pro nákupní signál\n",
    "\n",
    "Záporná hodnota je *Sell* a kladná *Buy*."
   ]
  },
  {
   "cell_type": "code",
   "execution_count": 11,
   "metadata": {},
   "outputs": [
    {
     "data": {
      "text/html": [
       "<div>\n",
       "<style>\n",
       "    .dataframe thead tr:only-child th {\n",
       "        text-align: right;\n",
       "    }\n",
       "\n",
       "    .dataframe thead th {\n",
       "        text-align: left;\n",
       "    }\n",
       "\n",
       "    .dataframe tbody tr th {\n",
       "        vertical-align: top;\n",
       "    }\n",
       "</style>\n",
       "<table border=\"1\" class=\"dataframe\">\n",
       "  <thead>\n",
       "    <tr style=\"text-align: right;\">\n",
       "      <th></th>\n",
       "      <th>AAPL</th>\n",
       "    </tr>\n",
       "    <tr>\n",
       "      <th>Date</th>\n",
       "      <th></th>\n",
       "    </tr>\n",
       "  </thead>\n",
       "  <tbody>\n",
       "    <tr>\n",
       "      <th>2008-07-28</th>\n",
       "      <td>0.0</td>\n",
       "    </tr>\n",
       "    <tr>\n",
       "      <th>2008-07-29</th>\n",
       "      <td>0.0</td>\n",
       "    </tr>\n",
       "    <tr>\n",
       "      <th>2008-07-30</th>\n",
       "      <td>-100.0</td>\n",
       "    </tr>\n",
       "    <tr>\n",
       "      <th>2008-07-31</th>\n",
       "      <td>0.0</td>\n",
       "    </tr>\n",
       "  </tbody>\n",
       "</table>\n",
       "</div>"
      ],
      "text/plain": [
       "             AAPL\n",
       "Date             \n",
       "2008-07-28    0.0\n",
       "2008-07-29    0.0\n",
       "2008-07-30 -100.0\n",
       "2008-07-31    0.0"
      ]
     },
     "execution_count": 11,
     "metadata": {},
     "output_type": "execute_result"
    }
   ],
   "source": [
    "# Získám velikost pozice pro nákupní/prodejní signál pro určitý den\n",
    "pos_diff = positions.diff()\n",
    "pos_diff.iloc[143:147] \n",
    "#pos_diff.iloc[72:76]"
   ]
  },
  {
   "cell_type": "markdown",
   "metadata": {},
   "source": [
    "### 6. Celková hodnota držených akcií\n",
    "\n",
    "V bodě 3 se jednalo o hodnotu pouze pro koupené akcie firmy Apple, zde se vytvoří celková hodnota pro držené všechny pozice v portfoliu - v tomto jednoduchém případě jde o stejnou hodnotu, protože nic jiného obchodovat nechci."
   ]
  },
  {
   "cell_type": "code",
   "execution_count": 12,
   "metadata": {},
   "outputs": [
    {
     "data": {
      "text/html": [
       "<div>\n",
       "<style>\n",
       "    .dataframe thead tr:only-child th {\n",
       "        text-align: right;\n",
       "    }\n",
       "\n",
       "    .dataframe thead th {\n",
       "        text-align: left;\n",
       "    }\n",
       "\n",
       "    .dataframe tbody tr th {\n",
       "        vertical-align: top;\n",
       "    }\n",
       "</style>\n",
       "<table border=\"1\" class=\"dataframe\">\n",
       "  <thead>\n",
       "    <tr style=\"text-align: right;\">\n",
       "      <th></th>\n",
       "      <th>AAPL</th>\n",
       "      <th>holdings</th>\n",
       "    </tr>\n",
       "    <tr>\n",
       "      <th>Date</th>\n",
       "      <th></th>\n",
       "      <th></th>\n",
       "    </tr>\n",
       "  </thead>\n",
       "  <tbody>\n",
       "    <tr>\n",
       "      <th>2008-04-16</th>\n",
       "      <td>0.0</td>\n",
       "      <td>0.0</td>\n",
       "    </tr>\n",
       "    <tr>\n",
       "      <th>2008-04-17</th>\n",
       "      <td>0.0</td>\n",
       "      <td>0.0</td>\n",
       "    </tr>\n",
       "    <tr>\n",
       "      <th>2008-04-18</th>\n",
       "      <td>2301.0</td>\n",
       "      <td>2301.0</td>\n",
       "    </tr>\n",
       "    <tr>\n",
       "      <th>2008-04-21</th>\n",
       "      <td>2402.0</td>\n",
       "      <td>2402.0</td>\n",
       "    </tr>\n",
       "  </tbody>\n",
       "</table>\n",
       "</div>"
      ],
      "text/plain": [
       "              AAPL  holdings\n",
       "Date                        \n",
       "2008-04-16     0.0       0.0\n",
       "2008-04-17     0.0       0.0\n",
       "2008-04-18  2301.0    2301.0\n",
       "2008-04-21  2402.0    2402.0"
      ]
     },
     "execution_count": 12,
     "metadata": {},
     "output_type": "execute_result"
    }
   ],
   "source": [
    "# Výpočet celkové aktuální hodnoty obchodovaného portfolia\n",
    "portfolio['holdings'] = (positions.multiply(ohlc_data['Close'], axis=0)).sum(axis=1)\n",
    "portfolio.iloc[72:76]"
   ]
  },
  {
   "cell_type": "markdown",
   "metadata": {},
   "source": [
    "### 7. Výpočet zbývajícího/nezobchodovaného kapitálu"
   ]
  },
  {
   "cell_type": "code",
   "execution_count": 13,
   "metadata": {},
   "outputs": [
    {
     "data": {
      "text/html": [
       "<div>\n",
       "<style>\n",
       "    .dataframe thead tr:only-child th {\n",
       "        text-align: right;\n",
       "    }\n",
       "\n",
       "    .dataframe thead th {\n",
       "        text-align: left;\n",
       "    }\n",
       "\n",
       "    .dataframe tbody tr th {\n",
       "        vertical-align: top;\n",
       "    }\n",
       "</style>\n",
       "<table border=\"1\" class=\"dataframe\">\n",
       "  <thead>\n",
       "    <tr style=\"text-align: right;\">\n",
       "      <th></th>\n",
       "      <th>AAPL</th>\n",
       "      <th>holdings</th>\n",
       "      <th>cash</th>\n",
       "    </tr>\n",
       "    <tr>\n",
       "      <th>Date</th>\n",
       "      <th></th>\n",
       "      <th></th>\n",
       "      <th></th>\n",
       "    </tr>\n",
       "  </thead>\n",
       "  <tbody>\n",
       "    <tr>\n",
       "      <th>2008-07-28</th>\n",
       "      <td>2206.0</td>\n",
       "      <td>2206.0</td>\n",
       "      <td>97699.0</td>\n",
       "    </tr>\n",
       "    <tr>\n",
       "      <th>2008-07-29</th>\n",
       "      <td>2244.0</td>\n",
       "      <td>2244.0</td>\n",
       "      <td>97699.0</td>\n",
       "    </tr>\n",
       "    <tr>\n",
       "      <th>2008-07-30</th>\n",
       "      <td>0.0</td>\n",
       "      <td>0.0</td>\n",
       "      <td>99983.0</td>\n",
       "    </tr>\n",
       "    <tr>\n",
       "      <th>2008-07-31</th>\n",
       "      <td>0.0</td>\n",
       "      <td>0.0</td>\n",
       "      <td>99983.0</td>\n",
       "    </tr>\n",
       "  </tbody>\n",
       "</table>\n",
       "</div>"
      ],
      "text/plain": [
       "              AAPL  holdings     cash\n",
       "Date                                 \n",
       "2008-07-28  2206.0    2206.0  97699.0\n",
       "2008-07-29  2244.0    2244.0  97699.0\n",
       "2008-07-30     0.0       0.0  99983.0\n",
       "2008-07-31     0.0       0.0  99983.0"
      ]
     },
     "execution_count": 13,
     "metadata": {},
     "output_type": "execute_result"
    }
   ],
   "source": [
    "# Výpočet hodnoty zbývajícího kapitálu\n",
    "portfolio['cash'] = initial_capital - (pos_diff.multiply(ohlc_data['Close'], axis=0)).sum(axis=1).cumsum() \n",
    "portfolio.iloc[143:147] "
   ]
  },
  {
   "cell_type": "markdown",
   "metadata": {},
   "source": [
    "### 8. Celková hodnota kapitálu\n",
    "\n",
    "Sečtu hodnotu neobchodovaného kapitálu s hodnotou nakoupených akcií a získám tak celkovou hodnotu kapitálu."
   ]
  },
  {
   "cell_type": "code",
   "execution_count": 14,
   "metadata": {},
   "outputs": [
    {
     "data": {
      "text/html": [
       "<div>\n",
       "<style>\n",
       "    .dataframe thead tr:only-child th {\n",
       "        text-align: right;\n",
       "    }\n",
       "\n",
       "    .dataframe thead th {\n",
       "        text-align: left;\n",
       "    }\n",
       "\n",
       "    .dataframe tbody tr th {\n",
       "        vertical-align: top;\n",
       "    }\n",
       "</style>\n",
       "<table border=\"1\" class=\"dataframe\">\n",
       "  <thead>\n",
       "    <tr style=\"text-align: right;\">\n",
       "      <th></th>\n",
       "      <th>AAPL</th>\n",
       "      <th>holdings</th>\n",
       "      <th>cash</th>\n",
       "      <th>total</th>\n",
       "    </tr>\n",
       "    <tr>\n",
       "      <th>Date</th>\n",
       "      <th></th>\n",
       "      <th></th>\n",
       "      <th></th>\n",
       "      <th></th>\n",
       "    </tr>\n",
       "  </thead>\n",
       "  <tbody>\n",
       "    <tr>\n",
       "      <th>2008-07-28</th>\n",
       "      <td>2206.0</td>\n",
       "      <td>2206.0</td>\n",
       "      <td>97699.0</td>\n",
       "      <td>99905.0</td>\n",
       "    </tr>\n",
       "    <tr>\n",
       "      <th>2008-07-29</th>\n",
       "      <td>2244.0</td>\n",
       "      <td>2244.0</td>\n",
       "      <td>97699.0</td>\n",
       "      <td>99943.0</td>\n",
       "    </tr>\n",
       "    <tr>\n",
       "      <th>2008-07-30</th>\n",
       "      <td>0.0</td>\n",
       "      <td>0.0</td>\n",
       "      <td>99983.0</td>\n",
       "      <td>99983.0</td>\n",
       "    </tr>\n",
       "    <tr>\n",
       "      <th>2008-07-31</th>\n",
       "      <td>0.0</td>\n",
       "      <td>0.0</td>\n",
       "      <td>99983.0</td>\n",
       "      <td>99983.0</td>\n",
       "    </tr>\n",
       "  </tbody>\n",
       "</table>\n",
       "</div>"
      ],
      "text/plain": [
       "              AAPL  holdings     cash    total\n",
       "Date                                          \n",
       "2008-07-28  2206.0    2206.0  97699.0  99905.0\n",
       "2008-07-29  2244.0    2244.0  97699.0  99943.0\n",
       "2008-07-30     0.0       0.0  99983.0  99983.0\n",
       "2008-07-31     0.0       0.0  99983.0  99983.0"
      ]
     },
     "execution_count": 14,
     "metadata": {},
     "output_type": "execute_result"
    }
   ],
   "source": [
    "# Celková hodnota kapitálu\n",
    "portfolio['total'] = portfolio['cash'] + portfolio['holdings']\n",
    "portfolio.iloc[143:147]"
   ]
  },
  {
   "cell_type": "markdown",
   "metadata": {},
   "source": [
    "### 9. Denní změna vývoje kapitálu v procentech"
   ]
  },
  {
   "cell_type": "code",
   "execution_count": 15,
   "metadata": {},
   "outputs": [
    {
     "data": {
      "text/html": [
       "<div>\n",
       "<style>\n",
       "    .dataframe thead tr:only-child th {\n",
       "        text-align: right;\n",
       "    }\n",
       "\n",
       "    .dataframe thead th {\n",
       "        text-align: left;\n",
       "    }\n",
       "\n",
       "    .dataframe tbody tr th {\n",
       "        vertical-align: top;\n",
       "    }\n",
       "</style>\n",
       "<table border=\"1\" class=\"dataframe\">\n",
       "  <thead>\n",
       "    <tr style=\"text-align: right;\">\n",
       "      <th></th>\n",
       "      <th>AAPL</th>\n",
       "      <th>holdings</th>\n",
       "      <th>cash</th>\n",
       "      <th>total</th>\n",
       "      <th>returns</th>\n",
       "    </tr>\n",
       "    <tr>\n",
       "      <th>Date</th>\n",
       "      <th></th>\n",
       "      <th></th>\n",
       "      <th></th>\n",
       "      <th></th>\n",
       "      <th></th>\n",
       "    </tr>\n",
       "  </thead>\n",
       "  <tbody>\n",
       "    <tr>\n",
       "      <th>2008-07-28</th>\n",
       "      <td>2206.0</td>\n",
       "      <td>2206.0</td>\n",
       "      <td>97699.0</td>\n",
       "      <td>99905.0</td>\n",
       "      <td>-0.00110</td>\n",
       "    </tr>\n",
       "    <tr>\n",
       "      <th>2008-07-29</th>\n",
       "      <td>2244.0</td>\n",
       "      <td>2244.0</td>\n",
       "      <td>97699.0</td>\n",
       "      <td>99943.0</td>\n",
       "      <td>0.00038</td>\n",
       "    </tr>\n",
       "    <tr>\n",
       "      <th>2008-07-30</th>\n",
       "      <td>0.0</td>\n",
       "      <td>0.0</td>\n",
       "      <td>99983.0</td>\n",
       "      <td>99983.0</td>\n",
       "      <td>0.00040</td>\n",
       "    </tr>\n",
       "    <tr>\n",
       "      <th>2008-07-31</th>\n",
       "      <td>0.0</td>\n",
       "      <td>0.0</td>\n",
       "      <td>99983.0</td>\n",
       "      <td>99983.0</td>\n",
       "      <td>0.00000</td>\n",
       "    </tr>\n",
       "  </tbody>\n",
       "</table>\n",
       "</div>"
      ],
      "text/plain": [
       "              AAPL  holdings     cash    total  returns\n",
       "Date                                                   \n",
       "2008-07-28  2206.0    2206.0  97699.0  99905.0 -0.00110\n",
       "2008-07-29  2244.0    2244.0  97699.0  99943.0  0.00038\n",
       "2008-07-30     0.0       0.0  99983.0  99983.0  0.00040\n",
       "2008-07-31     0.0       0.0  99983.0  99983.0  0.00000"
      ]
     },
     "execution_count": 15,
     "metadata": {},
     "output_type": "execute_result"
    }
   ],
   "source": [
    "# Návratnost -> procentní změna kapitálu pro každý den\n",
    "portfolio['returns'] = portfolio['total'].pct_change()\n",
    "portfolio.iloc[143:147]"
   ]
  },
  {
   "cell_type": "markdown",
   "metadata": {},
   "source": [
    "# Celý kód portfolia"
   ]
  },
  {
   "cell_type": "code",
   "execution_count": 16,
   "metadata": {},
   "outputs": [
    {
     "data": {
      "text/html": [
       "<div>\n",
       "<style>\n",
       "    .dataframe thead tr:only-child th {\n",
       "        text-align: right;\n",
       "    }\n",
       "\n",
       "    .dataframe thead th {\n",
       "        text-align: left;\n",
       "    }\n",
       "\n",
       "    .dataframe tbody tr th {\n",
       "        vertical-align: top;\n",
       "    }\n",
       "</style>\n",
       "<table border=\"1\" class=\"dataframe\">\n",
       "  <thead>\n",
       "    <tr style=\"text-align: right;\">\n",
       "      <th></th>\n",
       "      <th>AAPL</th>\n",
       "      <th>holdings</th>\n",
       "      <th>cash</th>\n",
       "      <th>total</th>\n",
       "      <th>returns</th>\n",
       "    </tr>\n",
       "    <tr>\n",
       "      <th>Date</th>\n",
       "      <th></th>\n",
       "      <th></th>\n",
       "      <th></th>\n",
       "      <th></th>\n",
       "      <th></th>\n",
       "    </tr>\n",
       "  </thead>\n",
       "  <tbody>\n",
       "    <tr>\n",
       "      <th>2017-07-31</th>\n",
       "      <td>0.0</td>\n",
       "      <td>0.0</td>\n",
       "      <td>109916.0</td>\n",
       "      <td>109916.0</td>\n",
       "      <td>0.000000</td>\n",
       "    </tr>\n",
       "    <tr>\n",
       "      <th>2017-08-01</th>\n",
       "      <td>0.0</td>\n",
       "      <td>0.0</td>\n",
       "      <td>109916.0</td>\n",
       "      <td>109916.0</td>\n",
       "      <td>0.000000</td>\n",
       "    </tr>\n",
       "    <tr>\n",
       "      <th>2017-08-02</th>\n",
       "      <td>0.0</td>\n",
       "      <td>0.0</td>\n",
       "      <td>109916.0</td>\n",
       "      <td>109916.0</td>\n",
       "      <td>0.000000</td>\n",
       "    </tr>\n",
       "    <tr>\n",
       "      <th>2017-08-03</th>\n",
       "      <td>15557.0</td>\n",
       "      <td>15557.0</td>\n",
       "      <td>94359.0</td>\n",
       "      <td>109916.0</td>\n",
       "      <td>0.000000</td>\n",
       "    </tr>\n",
       "    <tr>\n",
       "      <th>2017-08-04</th>\n",
       "      <td>15639.0</td>\n",
       "      <td>15639.0</td>\n",
       "      <td>94359.0</td>\n",
       "      <td>109998.0</td>\n",
       "      <td>0.000746</td>\n",
       "    </tr>\n",
       "  </tbody>\n",
       "</table>\n",
       "</div>"
      ],
      "text/plain": [
       "               AAPL  holdings      cash     total   returns\n",
       "Date                                                       \n",
       "2017-07-31      0.0       0.0  109916.0  109916.0  0.000000\n",
       "2017-08-01      0.0       0.0  109916.0  109916.0  0.000000\n",
       "2017-08-02      0.0       0.0  109916.0  109916.0  0.000000\n",
       "2017-08-03  15557.0   15557.0   94359.0  109916.0  0.000000\n",
       "2017-08-04  15639.0   15639.0   94359.0  109998.0  0.000746"
      ]
     },
     "execution_count": 16,
     "metadata": {},
     "output_type": "execute_result"
    }
   ],
   "source": [
    "initial_capital= float(100000.0)\n",
    "positions = pd.DataFrame(index=signals.index).fillna(0.0)\n",
    "positions['AAPL'] = 100 * signals['signal']\n",
    "portfolio = positions.multiply(ohlc_data['Close'], axis=0)\n",
    "pos_diff = positions.diff()\n",
    "portfolio['holdings'] = (positions.multiply(ohlc_data['Close'], axis=0)).sum(axis=1)\n",
    "portfolio['cash'] = initial_capital - (pos_diff.multiply(ohlc_data['Close'], axis=0)).sum(axis=1).cumsum()   \n",
    "portfolio['total'] = portfolio['cash'] + portfolio['holdings']\n",
    "portfolio['returns'] = portfolio['total'].pct_change()\n",
    "portfolio.tail()"
   ]
  },
  {
   "cell_type": "markdown",
   "metadata": {},
   "source": [
    "# Zobrazení výsledků v grafu"
   ]
  },
  {
   "cell_type": "code",
   "execution_count": 21,
   "metadata": {},
   "outputs": [
    {
     "data": {
      "image/png": "[encoded data removed]",
      "text/plain": [
       "<matplotlib.figure.Figure at 0x7f63dde69da0>"
      ]
     },
     "metadata": {},
     "output_type": "display_data"
    }
   ],
   "source": [
    "import matplotlib.pyplot as plt\n",
    "\n",
    "fig = plt.figure(figsize=(15,7))\n",
    "ax1 = fig.add_subplot(111, ylabel='Hodnota portfolia v $')\n",
    "\n",
    "# graf průběhu equity v USD\n",
    "portfolio['total'].plot(ax=ax1, lw=2.)\n",
    "\n",
    "# vložení vstupů do pozic\n",
    "ax1.plot(portfolio.loc[signals.positions == 1.0].index, \n",
    "         portfolio.total[signals.positions == 1.0],\n",
    "         '^', markersize=10, color='m')\n",
    "ax1.plot(portfolio.loc[signals.positions == -1.0].index, \n",
    "         portfolio.total[signals.positions == -1.0],\n",
    "         'v', markersize=10, color='k')\n",
    "\n",
    "# zobrazení připraveného grafu\n",
    "plt.show()"
   ]
  },
  {
   "cell_type": "markdown",
   "metadata": {},
   "source": [
    "Graf vývoje hodnoty portfolia při obchodování jednoduché strategie na bázi klouzavých průměrů."
   ]
  },
  {
   "cell_type": "markdown",
   "metadata": {},
   "source": [
    "# Závěr\n",
    "\n",
    "Připravil jsem strategii, která (pouze) nakupuje akcie společnosti Apple. Backtest ukázal, že v případě obchodování této strategie od roku 2008 cca do poloviny roku 2017, zhodnotil bych svůj kapitál. Tohle je ale samozřejmě výukový příklad a obchodovat jen na základě tohoto backtestu by nemuselo dopadnout dobře. Zkuste si zkopírovat kód a nastavit datum obchodování jen na rok 2015 (od 1.1.2015 do 1.1.2016). Ale to je už jiná kapitola.\n",
    "\n",
    "Je vidět, že sestavení své vlastní strategie (14 řádků kódu) a následný backtest (10 řádků kódu) nemusí být vůbec složitý. Následně si jednoduše můžu zobrazit výsledek a ihned na první pohled vidět, zda má vůbec smysl se podobnou strategií dál zabývat."
   ]
  }
 ],
 "metadata": {
  "kernelspec": {
   "display_name": "Python 3",
   "language": "python",
   "name": "python3"
  },
  "language_info": {
   "codemirror_mode": {
    "name": "ipython",
    "version": 3
   },
   "file_extension": ".py",
   "mimetype": "text/x-python",
   "name": "python",
   "nbconvert_exporter": "python",
   "pygments_lexer": "ipython3",
   "version": "3.6.2"
  }
 },
 "nbformat": 4,
 "nbformat_minor": 2
}
