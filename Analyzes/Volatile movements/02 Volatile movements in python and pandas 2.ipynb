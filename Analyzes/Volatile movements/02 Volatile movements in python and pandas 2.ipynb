{
 "cells": [
  {
   "cell_type": "markdown",
   "metadata": {},
   "source": [
    "# Analýza volatilních pohybů v Pythonu a Pandas 2\n",
    "\n",
    "Jde o příklad, jak hledat vztah konkrétní podmínky na výsledek. V následujícím článku popisuji, jaký má vliv volatilní úsečka, popsaná v [předchozím článku](https://vanhecksite.cz/2018/11/jak-analyzovat-volatilni-pohyby-v-pythonu-a-pandas-1/), na následující cenovou úsečku. Zároveň se budu snažit odpovědět na následující otázky:\n",
    "* Má cenu po volatilní úsečce nakupovat nebo prodávat?\n",
    "* Jaká je pravděpodobnost, že následující úsečka bude pokračovat v pohybu, nebo se vrátí?\n",
    "* Kam umístit target?"
   ]
  },
  {
   "cell_type": "markdown",
   "metadata": {},
   "source": [
    "Pro analýzu jsem použil následující moduly:"
   ]
  },
  {
   "cell_type": "code",
   "execution_count": 1,
   "metadata": {},
   "outputs": [
    {
     "name": "stdout",
     "output_type": "stream",
     "text": [
      "Python 3.7.1 (default, Dec 10 2018, 22:54:23) [MSC v.1915 64 bit (AMD64)]\n",
      "Pandas 0.23.4\n",
      "Pandas-datareader 0.7.0\n",
      "Matplotlib 3.0.2\n",
      "Seaborn 0.9.0\n"
     ]
    }
   ],
   "source": [
    "import sys\n",
    "import pandas as pd\n",
    "import pandas_datareader as pdr\n",
    "import pandas_datareader.data as web\n",
    "import matplotlib\n",
    "import seaborn as sns\n",
    "import datetime\n",
    "\n",
    "\n",
    "print('Python', sys.version)\n",
    "print('Pandas', pd.__version__)\n",
    "print('Pandas-datareader', pdr.__version__)\n",
    "print('Matplotlib', matplotlib.__version__)\n",
    "print('Seaborn', sns.__version__)"
   ]
  },
  {
   "cell_type": "markdown",
   "metadata": {},
   "source": [
    "### Stažení vzorových dat\n",
    "\n",
    "Nejprve si připravím vzorová data. Například využiji trh SPY, což je ETF kopírující hlavní americký akciový index S&P 500."
   ]
  },
  {
   "cell_type": "code",
   "execution_count": 2,
   "metadata": {},
   "outputs": [
    {
     "data": {
      "text/html": [
       "<div>\n",
       "<style scoped>\n",
       "    .dataframe tbody tr th:only-of-type {\n",
       "        vertical-align: middle;\n",
       "    }\n",
       "\n",
       "    .dataframe tbody tr th {\n",
       "        vertical-align: top;\n",
       "    }\n",
       "\n",
       "    .dataframe thead th {\n",
       "        text-align: right;\n",
       "    }\n",
       "</style>\n",
       "<table border=\"1\" class=\"dataframe\">\n",
       "  <thead>\n",
       "    <tr style=\"text-align: right;\">\n",
       "      <th></th>\n",
       "      <th>High</th>\n",
       "      <th>Low</th>\n",
       "      <th>Open</th>\n",
       "      <th>Close</th>\n",
       "    </tr>\n",
       "    <tr>\n",
       "      <th>Date</th>\n",
       "      <th></th>\n",
       "      <th></th>\n",
       "      <th></th>\n",
       "      <th></th>\n",
       "    </tr>\n",
       "  </thead>\n",
       "  <tbody>\n",
       "    <tr>\n",
       "      <th>2018-12-24</th>\n",
       "      <td>240.839996</td>\n",
       "      <td>234.270004</td>\n",
       "      <td>239.039993</td>\n",
       "      <td>234.339996</td>\n",
       "    </tr>\n",
       "    <tr>\n",
       "      <th>2018-12-26</th>\n",
       "      <td>246.179993</td>\n",
       "      <td>233.759995</td>\n",
       "      <td>235.970001</td>\n",
       "      <td>246.179993</td>\n",
       "    </tr>\n",
       "    <tr>\n",
       "      <th>2018-12-27</th>\n",
       "      <td>248.289993</td>\n",
       "      <td>238.960007</td>\n",
       "      <td>242.570007</td>\n",
       "      <td>248.070007</td>\n",
       "    </tr>\n",
       "    <tr>\n",
       "      <th>2018-12-28</th>\n",
       "      <td>251.399994</td>\n",
       "      <td>246.449997</td>\n",
       "      <td>249.580002</td>\n",
       "      <td>247.750000</td>\n",
       "    </tr>\n",
       "    <tr>\n",
       "      <th>2018-12-31</th>\n",
       "      <td>250.190002</td>\n",
       "      <td>247.470001</td>\n",
       "      <td>249.559998</td>\n",
       "      <td>249.919998</td>\n",
       "    </tr>\n",
       "  </tbody>\n",
       "</table>\n",
       "</div>"
      ],
      "text/plain": [
       "                  High         Low        Open       Close\n",
       "Date                                                      \n",
       "2018-12-24  240.839996  234.270004  239.039993  234.339996\n",
       "2018-12-26  246.179993  233.759995  235.970001  246.179993\n",
       "2018-12-27  248.289993  238.960007  242.570007  248.070007\n",
       "2018-12-28  251.399994  246.449997  249.580002  247.750000\n",
       "2018-12-31  250.190002  247.470001  249.559998  249.919998"
      ]
     },
     "execution_count": 2,
     "metadata": {},
     "output_type": "execute_result"
    }
   ],
   "source": [
    "start = datetime.datetime(2005, 1, 1)\n",
    "end = datetime.datetime(2018, 12, 31)\n",
    "\n",
    "spy_data = web.DataReader('SPY', 'yahoo', start, end)\n",
    "spy_data = spy_data.drop(['Volume', 'Adj Close'], axis=1) # sloupce 'Volume' a 'Adj Close' nebudu potřebovat\n",
    "spy_data.tail()"
   ]
  },
  {
   "cell_type": "markdown",
   "metadata": {},
   "source": [
    "V [předchozím článku](https://vanhecksite.cz/2018/11/jak-analyzovat-volatilni-pohyby-v-pythonu-a-pandas-1/) jsem definoval, jak najdu *volatilní svíčku*. Připomínám, že se jedná o svíčku, která je větší než 4 předchozí svíčky.\n",
    "\n",
    "Abych tento kód nemusel psát pořád dokola, vytvořil jsem si osobní balíček, obsahující mé používané analýzy. Zde je jednoznačná výhoda pythonu a jiných programovacích jazyků. Funkce `volatile_bars` přebírá jako první parametr tabulku dat typu `pandas.DataFrame`, která musí obsahovat sloupečky `Open`, `High`, `Low`, `Close`. Jako jednotlivé řádky bere data svíček trhů, takže tam klidně můžu mít data jiného timeframe.\n",
    "\n",
    "Funkce `volatile_bars` vytvoří nový sloupeček s názvem `VolBar`, ve kterém označí volatilní svíčky hodnotou `True` a všechny ostatní svíčky hodnotou `False`."
   ]
  },
  {
   "cell_type": "code",
   "execution_count": 3,
   "metadata": {},
   "outputs": [
    {
     "data": {
      "text/html": [
       "<div>\n",
       "<style scoped>\n",
       "    .dataframe tbody tr th:only-of-type {\n",
       "        vertical-align: middle;\n",
       "    }\n",
       "\n",
       "    .dataframe tbody tr th {\n",
       "        vertical-align: top;\n",
       "    }\n",
       "\n",
       "    .dataframe thead th {\n",
       "        text-align: right;\n",
       "    }\n",
       "</style>\n",
       "<table border=\"1\" class=\"dataframe\">\n",
       "  <thead>\n",
       "    <tr style=\"text-align: right;\">\n",
       "      <th></th>\n",
       "      <th>High</th>\n",
       "      <th>Low</th>\n",
       "      <th>Open</th>\n",
       "      <th>Close</th>\n",
       "      <th>C-O</th>\n",
       "      <th>Abs(C-O)</th>\n",
       "      <th>VolBar</th>\n",
       "    </tr>\n",
       "    <tr>\n",
       "      <th>Date</th>\n",
       "      <th></th>\n",
       "      <th></th>\n",
       "      <th></th>\n",
       "      <th></th>\n",
       "      <th></th>\n",
       "      <th></th>\n",
       "      <th></th>\n",
       "    </tr>\n",
       "  </thead>\n",
       "  <tbody>\n",
       "    <tr>\n",
       "      <th>2018-12-24</th>\n",
       "      <td>240.839996</td>\n",
       "      <td>234.270004</td>\n",
       "      <td>239.039993</td>\n",
       "      <td>234.339996</td>\n",
       "      <td>-4.699997</td>\n",
       "      <td>4.699997</td>\n",
       "      <td>False</td>\n",
       "    </tr>\n",
       "    <tr>\n",
       "      <th>2018-12-26</th>\n",
       "      <td>246.179993</td>\n",
       "      <td>233.759995</td>\n",
       "      <td>235.970001</td>\n",
       "      <td>246.179993</td>\n",
       "      <td>10.209991</td>\n",
       "      <td>10.209991</td>\n",
       "      <td>True</td>\n",
       "    </tr>\n",
       "    <tr>\n",
       "      <th>2018-12-27</th>\n",
       "      <td>248.289993</td>\n",
       "      <td>238.960007</td>\n",
       "      <td>242.570007</td>\n",
       "      <td>248.070007</td>\n",
       "      <td>5.500000</td>\n",
       "      <td>5.500000</td>\n",
       "      <td>False</td>\n",
       "    </tr>\n",
       "    <tr>\n",
       "      <th>2018-12-28</th>\n",
       "      <td>251.399994</td>\n",
       "      <td>246.449997</td>\n",
       "      <td>249.580002</td>\n",
       "      <td>247.750000</td>\n",
       "      <td>-1.830002</td>\n",
       "      <td>1.830002</td>\n",
       "      <td>False</td>\n",
       "    </tr>\n",
       "    <tr>\n",
       "      <th>2018-12-31</th>\n",
       "      <td>250.190002</td>\n",
       "      <td>247.470001</td>\n",
       "      <td>249.559998</td>\n",
       "      <td>249.919998</td>\n",
       "      <td>0.360001</td>\n",
       "      <td>0.360001</td>\n",
       "      <td>False</td>\n",
       "    </tr>\n",
       "  </tbody>\n",
       "</table>\n",
       "</div>"
      ],
      "text/plain": [
       "                  High         Low        Open       Close        C-O  \\\n",
       "Date                                                                    \n",
       "2018-12-24  240.839996  234.270004  239.039993  234.339996  -4.699997   \n",
       "2018-12-26  246.179993  233.759995  235.970001  246.179993  10.209991   \n",
       "2018-12-27  248.289993  238.960007  242.570007  248.070007   5.500000   \n",
       "2018-12-28  251.399994  246.449997  249.580002  247.750000  -1.830002   \n",
       "2018-12-31  250.190002  247.470001  249.559998  249.919998   0.360001   \n",
       "\n",
       "             Abs(C-O)  VolBar  \n",
       "Date                           \n",
       "2018-12-24   4.699997   False  \n",
       "2018-12-26  10.209991    True  \n",
       "2018-12-27   5.500000   False  \n",
       "2018-12-28   1.830002   False  \n",
       "2018-12-31   0.360001   False  "
      ]
     },
     "execution_count": 3,
     "metadata": {},
     "output_type": "execute_result"
    }
   ],
   "source": [
    "# vhat je můj osobní balíček analytických funkcí, které nechci psát pokaždé znovu a znovu\n",
    "from vhat.analyse.volbars import volatile_bars\n",
    "\n",
    "volatile_bars(spy_data, N=4, drop_calculations=False)\n",
    "spy_data.tail()"
   ]
  },
  {
   "cell_type": "markdown",
   "metadata": {},
   "source": [
    "`Pandas.DataFrame` má jednoduchou funkci, která se nazývá `pct_change`. Ta mi zjistí procentuální změnu hodnoty aktuálního řádku od přechozího. V mém případě to v jednoduchosti znamená, že zjistím, jak se dnešní Close procentuálně změnilo od včerejška. Výsledek vložím do nového sloupečku s názvem `pct_change`.\n",
    "\n",
    "*Pozn.: Uvažuji obchodování na Close cenách jednotlivých svíček.*"
   ]
  },
  {
   "cell_type": "code",
   "execution_count": 4,
   "metadata": {},
   "outputs": [
    {
     "data": {
      "text/html": [
       "<div>\n",
       "<style scoped>\n",
       "    .dataframe tbody tr th:only-of-type {\n",
       "        vertical-align: middle;\n",
       "    }\n",
       "\n",
       "    .dataframe tbody tr th {\n",
       "        vertical-align: top;\n",
       "    }\n",
       "\n",
       "    .dataframe thead th {\n",
       "        text-align: right;\n",
       "    }\n",
       "</style>\n",
       "<table border=\"1\" class=\"dataframe\">\n",
       "  <thead>\n",
       "    <tr style=\"text-align: right;\">\n",
       "      <th></th>\n",
       "      <th>High</th>\n",
       "      <th>Low</th>\n",
       "      <th>Open</th>\n",
       "      <th>Close</th>\n",
       "      <th>C-O</th>\n",
       "      <th>Abs(C-O)</th>\n",
       "      <th>VolBar</th>\n",
       "      <th>pct_change</th>\n",
       "    </tr>\n",
       "    <tr>\n",
       "      <th>Date</th>\n",
       "      <th></th>\n",
       "      <th></th>\n",
       "      <th></th>\n",
       "      <th></th>\n",
       "      <th></th>\n",
       "      <th></th>\n",
       "      <th></th>\n",
       "      <th></th>\n",
       "    </tr>\n",
       "  </thead>\n",
       "  <tbody>\n",
       "    <tr>\n",
       "      <th>2005-01-03</th>\n",
       "      <td>121.760002</td>\n",
       "      <td>119.900002</td>\n",
       "      <td>121.559998</td>\n",
       "      <td>120.300003</td>\n",
       "      <td>-1.259995</td>\n",
       "      <td>1.259995</td>\n",
       "      <td>False</td>\n",
       "      <td>NaN</td>\n",
       "    </tr>\n",
       "    <tr>\n",
       "      <th>2005-01-04</th>\n",
       "      <td>120.540001</td>\n",
       "      <td>118.440002</td>\n",
       "      <td>120.459999</td>\n",
       "      <td>118.830002</td>\n",
       "      <td>-1.629997</td>\n",
       "      <td>1.629997</td>\n",
       "      <td>False</td>\n",
       "      <td>-0.012219</td>\n",
       "    </tr>\n",
       "    <tr>\n",
       "      <th>2005-01-05</th>\n",
       "      <td>119.250000</td>\n",
       "      <td>118.000000</td>\n",
       "      <td>118.739998</td>\n",
       "      <td>118.010002</td>\n",
       "      <td>-0.729996</td>\n",
       "      <td>0.729996</td>\n",
       "      <td>False</td>\n",
       "      <td>-0.006901</td>\n",
       "    </tr>\n",
       "    <tr>\n",
       "      <th>2005-01-06</th>\n",
       "      <td>119.150002</td>\n",
       "      <td>118.260002</td>\n",
       "      <td>118.440002</td>\n",
       "      <td>118.610001</td>\n",
       "      <td>0.169998</td>\n",
       "      <td>0.169998</td>\n",
       "      <td>False</td>\n",
       "      <td>0.005084</td>\n",
       "    </tr>\n",
       "    <tr>\n",
       "      <th>2005-01-07</th>\n",
       "      <td>119.230003</td>\n",
       "      <td>118.129997</td>\n",
       "      <td>118.970001</td>\n",
       "      <td>118.440002</td>\n",
       "      <td>-0.529999</td>\n",
       "      <td>0.529999</td>\n",
       "      <td>False</td>\n",
       "      <td>-0.001433</td>\n",
       "    </tr>\n",
       "  </tbody>\n",
       "</table>\n",
       "</div>"
      ],
      "text/plain": [
       "                  High         Low        Open       Close       C-O  \\\n",
       "Date                                                                   \n",
       "2005-01-03  121.760002  119.900002  121.559998  120.300003 -1.259995   \n",
       "2005-01-04  120.540001  118.440002  120.459999  118.830002 -1.629997   \n",
       "2005-01-05  119.250000  118.000000  118.739998  118.010002 -0.729996   \n",
       "2005-01-06  119.150002  118.260002  118.440002  118.610001  0.169998   \n",
       "2005-01-07  119.230003  118.129997  118.970001  118.440002 -0.529999   \n",
       "\n",
       "            Abs(C-O)  VolBar  pct_change  \n",
       "Date                                      \n",
       "2005-01-03  1.259995   False         NaN  \n",
       "2005-01-04  1.629997   False   -0.012219  \n",
       "2005-01-05  0.729996   False   -0.006901  \n",
       "2005-01-06  0.169998   False    0.005084  \n",
       "2005-01-07  0.529999   False   -0.001433  "
      ]
     },
     "execution_count": 4,
     "metadata": {},
     "output_type": "execute_result"
    }
   ],
   "source": [
    "spy_data['pct_change'] = spy_data.Close.pct_change()\n",
    "spy_data.head()"
   ]
  },
  {
   "cell_type": "markdown",
   "metadata": {},
   "source": [
    "Nyní přichází na řadu princip analýzy, na který chci tímhle článkem upozornit.\n",
    "\n",
    "## Analýza vlivu určité podmínky na budoucí výsledek\n",
    "\n",
    "Jako podmínku beru volatilní úsečku, tu mám označenou ve sloupci `VolBar` a změnu ceny v procentech mám ve sloupečku `pct_change`. Nyní můžu posunout data ve sloupečku `pct_change` o jeden řádek výše a získám tak procentuální změnu `Close` ceny (výsledek) v následující svíčce v řádku s označeným `VolBar`em (podmínka)."
   ]
  },
  {
   "cell_type": "code",
   "execution_count": 5,
   "metadata": {},
   "outputs": [
    {
     "data": {
      "text/html": [
       "<div>\n",
       "<style scoped>\n",
       "    .dataframe tbody tr th:only-of-type {\n",
       "        vertical-align: middle;\n",
       "    }\n",
       "\n",
       "    .dataframe tbody tr th {\n",
       "        vertical-align: top;\n",
       "    }\n",
       "\n",
       "    .dataframe thead th {\n",
       "        text-align: right;\n",
       "    }\n",
       "</style>\n",
       "<table border=\"1\" class=\"dataframe\">\n",
       "  <thead>\n",
       "    <tr style=\"text-align: right;\">\n",
       "      <th></th>\n",
       "      <th>High</th>\n",
       "      <th>Low</th>\n",
       "      <th>Open</th>\n",
       "      <th>Close</th>\n",
       "      <th>C-O</th>\n",
       "      <th>Abs(C-O)</th>\n",
       "      <th>VolBar</th>\n",
       "      <th>pct_change</th>\n",
       "      <th>pct_change-1</th>\n",
       "    </tr>\n",
       "    <tr>\n",
       "      <th>Date</th>\n",
       "      <th></th>\n",
       "      <th></th>\n",
       "      <th></th>\n",
       "      <th></th>\n",
       "      <th></th>\n",
       "      <th></th>\n",
       "      <th></th>\n",
       "      <th></th>\n",
       "      <th></th>\n",
       "    </tr>\n",
       "  </thead>\n",
       "  <tbody>\n",
       "    <tr>\n",
       "      <th>2005-10-19</th>\n",
       "      <td>119.800003</td>\n",
       "      <td>117.120003</td>\n",
       "      <td>117.500000</td>\n",
       "      <td>119.779999</td>\n",
       "      <td>2.279999</td>\n",
       "      <td>2.279999</td>\n",
       "      <td>True</td>\n",
       "      <td>0.016636</td>\n",
       "      <td>-0.017616</td>\n",
       "    </tr>\n",
       "    <tr>\n",
       "      <th>2006-01-20</th>\n",
       "      <td>128.309998</td>\n",
       "      <td>125.970001</td>\n",
       "      <td>128.279999</td>\n",
       "      <td>125.970001</td>\n",
       "      <td>-2.309998</td>\n",
       "      <td>2.309998</td>\n",
       "      <td>True</td>\n",
       "      <td>-0.018237</td>\n",
       "      <td>0.003572</td>\n",
       "    </tr>\n",
       "    <tr>\n",
       "      <th>2006-05-23</th>\n",
       "      <td>127.629997</td>\n",
       "      <td>125.169998</td>\n",
       "      <td>127.180000</td>\n",
       "      <td>125.169998</td>\n",
       "      <td>-2.010002</td>\n",
       "      <td>2.010002</td>\n",
       "      <td>True</td>\n",
       "      <td>-0.007611</td>\n",
       "      <td>0.007989</td>\n",
       "    </tr>\n",
       "    <tr>\n",
       "      <th>2006-06-15</th>\n",
       "      <td>126.360001</td>\n",
       "      <td>123.860001</td>\n",
       "      <td>123.949997</td>\n",
       "      <td>126.120003</td>\n",
       "      <td>2.170006</td>\n",
       "      <td>2.170006</td>\n",
       "      <td>True</td>\n",
       "      <td>0.021215</td>\n",
       "      <td>-0.011656</td>\n",
       "    </tr>\n",
       "    <tr>\n",
       "      <th>2006-06-29</th>\n",
       "      <td>127.349998</td>\n",
       "      <td>125.169998</td>\n",
       "      <td>125.199997</td>\n",
       "      <td>127.269997</td>\n",
       "      <td>2.070000</td>\n",
       "      <td>2.070000</td>\n",
       "      <td>True</td>\n",
       "      <td>0.020200</td>\n",
       "      <td>0.000079</td>\n",
       "    </tr>\n",
       "  </tbody>\n",
       "</table>\n",
       "</div>"
      ],
      "text/plain": [
       "                  High         Low        Open       Close       C-O  \\\n",
       "Date                                                                   \n",
       "2005-10-19  119.800003  117.120003  117.500000  119.779999  2.279999   \n",
       "2006-01-20  128.309998  125.970001  128.279999  125.970001 -2.309998   \n",
       "2006-05-23  127.629997  125.169998  127.180000  125.169998 -2.010002   \n",
       "2006-06-15  126.360001  123.860001  123.949997  126.120003  2.170006   \n",
       "2006-06-29  127.349998  125.169998  125.199997  127.269997  2.070000   \n",
       "\n",
       "            Abs(C-O)  VolBar  pct_change  pct_change-1  \n",
       "Date                                                    \n",
       "2005-10-19  2.279999    True    0.016636     -0.017616  \n",
       "2006-01-20  2.309998    True   -0.018237      0.003572  \n",
       "2006-05-23  2.010002    True   -0.007611      0.007989  \n",
       "2006-06-15  2.170006    True    0.021215     -0.011656  \n",
       "2006-06-29  2.070000    True    0.020200      0.000079  "
      ]
     },
     "execution_count": 5,
     "metadata": {},
     "output_type": "execute_result"
    }
   ],
   "source": [
    "spy_data['pct_change-1'] = spy_data['pct_change'].shift(-1)\n",
    "spy_data[spy_data['VolBar']].head()"
   ]
  },
  {
   "cell_type": "markdown",
   "metadata": {},
   "source": [
    "Ještě pomocí filtru rozdělím na stoupající volatilní úsečku a klesající volatilní úsečku."
   ]
  },
  {
   "cell_type": "code",
   "execution_count": 6,
   "metadata": {},
   "outputs": [
    {
     "data": {
      "text/html": [
       "<div>\n",
       "<style scoped>\n",
       "    .dataframe tbody tr th:only-of-type {\n",
       "        vertical-align: middle;\n",
       "    }\n",
       "\n",
       "    .dataframe tbody tr th {\n",
       "        vertical-align: top;\n",
       "    }\n",
       "\n",
       "    .dataframe thead th {\n",
       "        text-align: right;\n",
       "    }\n",
       "</style>\n",
       "<table border=\"1\" class=\"dataframe\">\n",
       "  <thead>\n",
       "    <tr style=\"text-align: right;\">\n",
       "      <th></th>\n",
       "      <th>High</th>\n",
       "      <th>Low</th>\n",
       "      <th>Open</th>\n",
       "      <th>Close</th>\n",
       "      <th>C-O</th>\n",
       "      <th>Abs(C-O)</th>\n",
       "      <th>VolBar</th>\n",
       "      <th>pct_change</th>\n",
       "      <th>pct_change-1</th>\n",
       "    </tr>\n",
       "    <tr>\n",
       "      <th>Date</th>\n",
       "      <th></th>\n",
       "      <th></th>\n",
       "      <th></th>\n",
       "      <th></th>\n",
       "      <th></th>\n",
       "      <th></th>\n",
       "      <th></th>\n",
       "      <th></th>\n",
       "      <th></th>\n",
       "    </tr>\n",
       "  </thead>\n",
       "  <tbody>\n",
       "    <tr>\n",
       "      <th>2006-01-20</th>\n",
       "      <td>128.309998</td>\n",
       "      <td>125.970001</td>\n",
       "      <td>128.279999</td>\n",
       "      <td>125.970001</td>\n",
       "      <td>-2.309998</td>\n",
       "      <td>2.309998</td>\n",
       "      <td>True</td>\n",
       "      <td>-0.018237</td>\n",
       "      <td>0.003572</td>\n",
       "    </tr>\n",
       "    <tr>\n",
       "      <th>2006-05-23</th>\n",
       "      <td>127.629997</td>\n",
       "      <td>125.169998</td>\n",
       "      <td>127.180000</td>\n",
       "      <td>125.169998</td>\n",
       "      <td>-2.010002</td>\n",
       "      <td>2.010002</td>\n",
       "      <td>True</td>\n",
       "      <td>-0.007611</td>\n",
       "      <td>0.007989</td>\n",
       "    </tr>\n",
       "    <tr>\n",
       "      <th>2007-02-27</th>\n",
       "      <td>144.199997</td>\n",
       "      <td>139.000000</td>\n",
       "      <td>143.880005</td>\n",
       "      <td>139.500000</td>\n",
       "      <td>-4.380005</td>\n",
       "      <td>4.380005</td>\n",
       "      <td>True</td>\n",
       "      <td>-0.039058</td>\n",
       "      <td>0.010251</td>\n",
       "    </tr>\n",
       "    <tr>\n",
       "      <th>2007-06-07</th>\n",
       "      <td>152.500000</td>\n",
       "      <td>149.059998</td>\n",
       "      <td>151.559998</td>\n",
       "      <td>149.100006</td>\n",
       "      <td>-2.459991</td>\n",
       "      <td>2.459991</td>\n",
       "      <td>True</td>\n",
       "      <td>-0.018045</td>\n",
       "      <td>0.013011</td>\n",
       "    </tr>\n",
       "    <tr>\n",
       "      <th>2007-06-20</th>\n",
       "      <td>153.580002</td>\n",
       "      <td>150.960007</td>\n",
       "      <td>153.580002</td>\n",
       "      <td>151.139999</td>\n",
       "      <td>-2.440002</td>\n",
       "      <td>2.440002</td>\n",
       "      <td>True</td>\n",
       "      <td>-0.013897</td>\n",
       "      <td>0.005558</td>\n",
       "    </tr>\n",
       "  </tbody>\n",
       "</table>\n",
       "</div>"
      ],
      "text/plain": [
       "                  High         Low        Open       Close       C-O  \\\n",
       "Date                                                                   \n",
       "2006-01-20  128.309998  125.970001  128.279999  125.970001 -2.309998   \n",
       "2006-05-23  127.629997  125.169998  127.180000  125.169998 -2.010002   \n",
       "2007-02-27  144.199997  139.000000  143.880005  139.500000 -4.380005   \n",
       "2007-06-07  152.500000  149.059998  151.559998  149.100006 -2.459991   \n",
       "2007-06-20  153.580002  150.960007  153.580002  151.139999 -2.440002   \n",
       "\n",
       "            Abs(C-O)  VolBar  pct_change  pct_change-1  \n",
       "Date                                                    \n",
       "2006-01-20  2.309998    True   -0.018237      0.003572  \n",
       "2006-05-23  2.010002    True   -0.007611      0.007989  \n",
       "2007-02-27  4.380005    True   -0.039058      0.010251  \n",
       "2007-06-07  2.459991    True   -0.018045      0.013011  \n",
       "2007-06-20  2.440002    True   -0.013897      0.005558  "
      ]
     },
     "execution_count": 6,
     "metadata": {},
     "output_type": "execute_result"
    }
   ],
   "source": [
    "upcandle_filter = spy_data['C-O'] >= 0 # long\n",
    "up_volbars = spy_data[spy_data['VolBar'] & upcandle_filter]\n",
    "down_volbars = spy_data[spy_data['VolBar'] & ~upcandle_filter]\n",
    "down_volbars.head()"
   ]
  },
  {
   "cell_type": "markdown",
   "metadata": {},
   "source": [
    "Proměnná `up_volbars` nyní obsahuje pouze řádky stoupajících volatilních úseček => jejich uzavírací cena `Close` je výšší než otevírací cena `Open`. Pro klesající volatilní úsečky v proměnné `down_volbars` platí opačná podmínka."
   ]
  },
  {
   "cell_type": "markdown",
   "metadata": {},
   "source": [
    "## Pravděpodobnost návratu po reverzní svíčce"
   ]
  },
  {
   "cell_type": "markdown",
   "metadata": {},
   "source": [
    "Příprava filtrů definujících reverzní pohyb po volatilní úsečce. Kladný `pct_change-1` znamená, že je následující svíčka stoupající a záporný klesající."
   ]
  },
  {
   "cell_type": "code",
   "execution_count": 7,
   "metadata": {},
   "outputs": [],
   "source": [
    "down_revers_filter = up_volbars['pct_change-1']<0\n",
    "up_revers_filter = down_volbars['pct_change-1']>0"
   ]
  },
  {
   "cell_type": "markdown",
   "metadata": {},
   "source": [
    "### Volatilní up svíčka\n",
    "\n",
    "Výpočet pravděpodobnosti, že po volatilní úsečce bude následovat klesající úsečka:"
   ]
  },
  {
   "cell_type": "code",
   "execution_count": 8,
   "metadata": {},
   "outputs": [
    {
     "name": "stdout",
     "output_type": "stream",
     "text": [
      "Probability of the following short bar after the volatile up bar: 44.83%\n"
     ]
    }
   ],
   "source": [
    "perc = up_volbars[down_revers_filter].shape[0] / up_volbars.shape[0]\n",
    "print('Probability of the following short bar after the volatile up bar:', f'{perc*100:.2f}%')"
   ]
  },
  {
   "cell_type": "markdown",
   "metadata": {},
   "source": [
    "### Volatilní down svíčka"
   ]
  },
  {
   "cell_type": "code",
   "execution_count": 9,
   "metadata": {},
   "outputs": [
    {
     "name": "stdout",
     "output_type": "stream",
     "text": [
      "Probability of the following up bar after the volatile short bar: 57.89%\n"
     ]
    }
   ],
   "source": [
    "perc = down_volbars[up_revers_filter].shape[0] / down_volbars.shape[0]\n",
    "print('Probability of the following up bar after the volatile short bar:', f'{perc*100:.2f}%')"
   ]
  },
  {
   "cell_type": "markdown",
   "metadata": {},
   "source": [
    "## Analýza rozložení výnosů po volatilní svíčce"
   ]
  },
  {
   "cell_type": "code",
   "execution_count": 10,
   "metadata": {},
   "outputs": [],
   "source": [
    "BINS = 50 # pouze pomocná proměnná, která určuje, kolik maximálně má být zobrazeno sloupečků v histogramu"
   ]
  },
  {
   "cell_type": "markdown",
   "metadata": {},
   "source": [
    "### Rozložení velikosti výnosů down reverzu po up volatilním pohybu"
   ]
  },
  {
   "cell_type": "markdown",
   "metadata": {},
   "source": [
    "Velikosti výnosů (procentuální změny close) pro reverz po volatilní stoupající úsečce si můžu zobrazit pomocí histogramu. `Pandas.DataFrame.hist()` je funkce, která využívá knihovnu `matplotlib` pro zobrazení dat."
   ]
  },
  {
   "cell_type": "code",
   "execution_count": 11,
   "metadata": {},
   "outputs": [
    {
     "data": {
      "image/png": "[encoded data removed]",
      "text/plain": [
       "<Figure size 432x288 with 1 Axes>"
      ]
     },
     "metadata": {
      "needs_background": "light"
     },
     "output_type": "display_data"
    }
   ],
   "source": [
    "up_volbars.loc[down_revers_filter,'pct_change-1'].hist(bins=BINS);"
   ]
  },
  {
   "cell_type": "markdown",
   "metadata": {},
   "source": [
    "Více se mi ale líbí možnosti knihovny [seaborn](https://seaborn.pydata.org/), která využívá `pandas.DataFrame` a `pandas.Series` jako vstupní data a pro statistické účely je dokáže pěkně zobrazit.\n",
    "\n",
    "Funkce `Pandas.DataFrame.describe()` vypočítá pro dané data základní statistické údaje jako jsou průměr, směrodatná odchylka, atd."
   ]
  },
  {
   "cell_type": "code",
   "execution_count": 13,
   "metadata": {},
   "outputs": [
    {
     "data": {
      "text/plain": [
       "count    39.000000\n",
       "mean     -0.009638\n",
       "std       0.011602\n",
       "min      -0.049907\n",
       "25%      -0.014155\n",
       "50%      -0.006059\n",
       "75%      -0.001745\n",
       "max      -0.000133\n",
       "Name: pct_change-1, dtype: float64"
      ]
     },
     "execution_count": 13,
     "metadata": {},
     "output_type": "execute_result"
    },
    {
     "data": {
      "image/png": "[encoded data removed]",
      "text/plain": [
       "<Figure size 432x288 with 1 Axes>"
      ]
     },
     "metadata": {
      "needs_background": "light"
     },
     "output_type": "display_data"
    }
   ],
   "source": [
    "import seaborn as sns\n",
    "sns.distplot(up_volbars.loc[down_revers_filter,'pct_change-1'], bins=BINS)\n",
    "up_volbars.loc[down_revers_filter,'pct_change-1'].describe()"
   ]
  },
  {
   "cell_type": "markdown",
   "metadata": {},
   "source": [
    "### Rozložení velikosti výnosů up reverzu po down volatilním pohybu"
   ]
  },
  {
   "cell_type": "markdown",
   "metadata": {},
   "source": [
    "Podobný rozbor pro reverzní pohyb po volatilní klesající úsečce:"
   ]
  },
  {
   "cell_type": "code",
   "execution_count": 14,
   "metadata": {},
   "outputs": [
    {
     "data": {
      "image/png": "[encoded data removed]",
      "text/plain": [
       "<Figure size 432x288 with 1 Axes>"
      ]
     },
     "metadata": {
      "needs_background": "light"
     },
     "output_type": "display_data"
    }
   ],
   "source": [
    "down_volbars.loc[up_revers_filter,'pct_change-1'].hist(bins=BINS);"
   ]
  },
  {
   "cell_type": "code",
   "execution_count": 15,
   "metadata": {},
   "outputs": [
    {
     "data": {
      "text/plain": [
       "count    77.000000\n",
       "mean      0.012079\n",
       "std       0.012155\n",
       "min       0.000140\n",
       "25%       0.004028\n",
       "50%       0.007945\n",
       "75%       0.015022\n",
       "max       0.053943\n",
       "Name: pct_change-1, dtype: float64"
      ]
     },
     "execution_count": 15,
     "metadata": {},
     "output_type": "execute_result"
    },
    {
     "data": {
      "image/png": "[encoded data removed]",
      "text/plain": [
       "<Figure size 432x288 with 1 Axes>"
      ]
     },
     "metadata": {
      "needs_background": "light"
     },
     "output_type": "display_data"
    }
   ],
   "source": [
    "sns.distplot(down_volbars.loc[up_revers_filter,'pct_change-1'], bins=BINS)\n",
    "down_volbars.loc[up_revers_filter,'pct_change-1'].describe()"
   ]
  },
  {
   "cell_type": "markdown",
   "metadata": {},
   "source": [
    "# Výsledek\n",
    "\n",
    "Z výše popsané analýzy jsem zjistil následující charakteristiku pro volatilní svíčky v trhu SPY v časovém období od 1.1.2005 do 31.12.2018:\n",
    "\n",
    "* Po volatilní stoupající svíčce následovala reverzní svíce (klesající) v **44.83% případů**.\n",
    "* Po volatilní klesající svíčce následovala reverzní svíce (stoupající) v **57.89% případů**.\n",
    "\n",
    "Už tenhle první výsledek nám ukazuje, že:\n",
    "\n",
    ">**Má větší smysl hledat v trhu SPY reverz po klesající volatilní úsečce směrem nahoru**.\n",
    "\n",
    "Samozřejmě je to dáno charakterem trhu SPY. Na grafu SPY je možné vidět na první pohled, že má spíše tendenci stoupat:"
   ]
  },
  {
   "cell_type": "code",
   "execution_count": 16,
   "metadata": {},
   "outputs": [
    {
     "data": {
      "image/png": "[encoded data removed]",
      "text/plain": [
       "<Figure size 432x288 with 1 Axes>"
      ]
     },
     "metadata": {
      "needs_background": "light"
     },
     "output_type": "display_data"
    }
   ],
   "source": [
    "spy_data.Close.plot();"
   ]
  },
  {
   "cell_type": "markdown",
   "metadata": {},
   "source": [
    "V případě, že se na základě výsledků předchozí analýzy rozhodnu obchodovat nákupem na `Close` klesající volatilní úsečky, můžu pomocí analýzy výnosů zjistit, kam až se v následujícím dnu může trh dostat a mířit tam profit target.\n",
    "\n",
    "Uzavírací cena po klesající volatilní úsečce se **v 57,89% případů dosáhne zhodnocení průměrně k 1.21%** (`mean=0.012079`), směrodatná odchylka je 1,22%.\n",
    "\n",
    "> **Pokud chci uzavřít obchod hned druhý den, nemá smysl mířit s profit targetem dál než ke zhodnocení 2.43%** (průměr + směrodatná odchylka).\n",
    "\n",
    "*V obchodování není třeba obrovské výhody, i nepatrná výhoda může mít vliv na úplně odlišný výsledek z dlouhodobého pohledu.*\n",
    "\n",
    "# Souhrn\n",
    "\n",
    "Tento článek slouží jako inspirace jak analyzovat vliv jedné podmínky na budoucí výsledek. Základ je mít jak data při vstupu, tak při výstupu, v tabulce na jednom řádku a pak zkoumat vliv vstupní a výstupní podmínky.\n",
    "\n",
    "Pro příklad jsem analyzoval vliv volatilních svíček na budoucí vývoj ceny v další cenové úsečce. Napadají mě hned další možnosti, jak tuhle analýzu upravit pro reálnější použití:\n",
    "\n",
    "* změna výstupní podmínky (např. výstup na opačné volatilní úsečce)\n",
    "* stanovení velikosti Profit Targetů a Stop-Lossu na základě volatility (max. velikosti ceny pohybu po vstupní podmínce) pomocí histogramu\n",
    "* filtr pro určitý charakter trhu a analýza dat pouze pro daný charakter trhu jako je up-trend, down-trend, trh směřující do strany, atd.\n",
    "\n",
    "*Pozn.: Pro jednoduchost a vysvětlení základního principu **zde neuvádím žádné ověření kvality dat, žádné ověření kvality výsledků a další důležité aspekty, k celkovému obchodnímu systému**. Jde pouze o inspiraci a v žádném případě nenesu odpovědnost za nesprávně interpretované a použité zde obsažené informace.*"
   ]
  }
 ],
 "metadata": {
  "kernelspec": {
   "display_name": "Python 3",
   "language": "python",
   "name": "python3"
  },
  "language_info": {
   "codemirror_mode": {
    "name": "ipython",
    "version": 3
   },
   "file_extension": ".py",
   "mimetype": "text/x-python",
   "name": "python",
   "nbconvert_exporter": "python",
   "pygments_lexer": "ipython3",
   "version": "3.7.1"
  }
 },
 "nbformat": 4,
 "nbformat_minor": 2
}
