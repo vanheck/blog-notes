{
 "cells": [
  {
   "cell_type": "code",
   "execution_count": 1,
   "metadata": {},
   "outputs": [
    {
     "name": "stdout",
     "output_type": "stream",
     "text": [
      "Python: 3.7.2 (default, Feb 11 2019, 14:11:50) [MSC v.1915 64 bit (AMD64)]\n",
      "Pandas: 0.24.1\n",
      "Pandas datareader: 0.7.0\n"
     ]
    }
   ],
   "source": [
    "import sys\n",
    "import datetime\n",
    "print('Python:', sys.version)\n",
    "import pandas as pd\n",
    "print('Pandas:', pd.__version__)\n",
    "import pandas_datareader as pdr\n",
    "print('Pandas datareader:', pdr.__version__)"
   ]
  },
  {
   "cell_type": "markdown",
   "metadata": {},
   "source": [
    "# Exponential Weighted Moving Average (EWMA)\n",
    "\n",
    "Pro jednoduchost výpočtu patří exponenciální vážený klouzavý průměr (EWMA) k hojně využívaným nástrojům pro analýzu dat, machine learning, atd. Narozdíl od jiných typů klouzavých průměrů (Simple, Exponential Moving Average, atd.) s větší periodou než 2, nepotřebuje EWMA k výpočtu aktuální hodnoty znát historii předchozích hodnot. Stačí k tomu pouze **fixní váha** `w` (ta určuje jak velká historie se bere v potaz), **hodnota aktuálního prvku** a **předchozí vypočítaná hodnota EWMA**.\n",
    "\n",
    "\n",
    "## Obecný výpočet EWMA\n",
    "Hodnota EWMA pro každý prvek *EWMA* se vypočítá podle vzorce:\n",
    "\n",
    "$$\n",
    "y_t = wy_{t-1} + (1-w)x_t\n",
    "$$\n",
    "\n",
    "$y_t$ je výsledek EWMA  \n",
    "$w$ je definovaná váha, kde $w \\in (0,1)$  \n",
    "$y_{t-1}$ je přechozí výsledek EWMA, pokud jde o první prvek, obvykle se inicializuje hodnotou 0, nebo aktuální měřenou hodnotou  \n",
    "$x_t$ je hodnota aktuálního prvku\n",
    "\n",
    "\n",
    "## Vztah váhy a historie, která má vliv na aktuální výsledek\n",
    "\n",
    "Po matematickém odvození můžeme zjistit, kolik hodnot zpětně má vliv na aktuální výsledek. Vzorec pro výpočet periody $p \\approx \\frac{1}{1-w}$, který uvádí [Andrew Ng ve výukovém video na youtube](https://www.youtube.com/watch?v=lAq96T8FkTw), bohužel obsahuje nepřesnost, správně by mělo být:\n",
    "\n",
    "$$\n",
    "p \\approx \\frac{2}{1-w}\n",
    "$$\n",
    "$w$ je definovaná váha, kde $w \\in (0,1)$  \n",
    "$p$ je perioda, kde $p \\geq 1$  \n",
    "\n",
    "*Perioda nám říká, že další prvky v hlouběji v historii mají zanedbatelný vliv na výsledek EWMA pro aktuální prvek.*\n",
    "Jednoduše z předchozího vzorce lze odvodit **jakou váhu `w` mám zvolit**:\n",
    "\n",
    "$$\n",
    "w \\approx 1 - \\frac{2}{p}\n",
    "$$\n",
    "$w$ je definovaná váha, kde $w \\in (0,1)$  \n",
    "$p$ je perioda, kde $p \\geq 1$  \n",
    "\n",
    "\n",
    "# Příklad EWMA a cenový graf\n",
    "\n",
    "Nejprve ale získám data:"
   ]
  },
  {
   "cell_type": "code",
   "execution_count": 2,
   "metadata": {},
   "outputs": [
    {
     "data": {
      "text/html": [
       "<div>\n",
       "<style scoped>\n",
       "    .dataframe tbody tr th:only-of-type {\n",
       "        vertical-align: middle;\n",
       "    }\n",
       "\n",
       "    .dataframe tbody tr th {\n",
       "        vertical-align: top;\n",
       "    }\n",
       "\n",
       "    .dataframe thead th {\n",
       "        text-align: right;\n",
       "    }\n",
       "</style>\n",
       "<table border=\"1\" class=\"dataframe\">\n",
       "  <thead>\n",
       "    <tr style=\"text-align: right;\">\n",
       "      <th></th>\n",
       "      <th>Adj Close</th>\n",
       "    </tr>\n",
       "    <tr>\n",
       "      <th>Date</th>\n",
       "      <th></th>\n",
       "    </tr>\n",
       "  </thead>\n",
       "  <tbody>\n",
       "    <tr>\n",
       "      <th>2018-01-02</th>\n",
       "      <td>263.759949</td>\n",
       "    </tr>\n",
       "    <tr>\n",
       "      <th>2018-01-03</th>\n",
       "      <td>265.428253</td>\n",
       "    </tr>\n",
       "    <tr>\n",
       "      <th>2018-01-04</th>\n",
       "      <td>266.546997</td>\n",
       "    </tr>\n",
       "    <tr>\n",
       "      <th>2018-01-05</th>\n",
       "      <td>268.323273</td>\n",
       "    </tr>\n",
       "    <tr>\n",
       "      <th>2018-01-08</th>\n",
       "      <td>268.813934</td>\n",
       "    </tr>\n",
       "  </tbody>\n",
       "</table>\n",
       "</div>"
      ],
      "text/plain": [
       "             Adj Close\n",
       "Date                  \n",
       "2018-01-02  263.759949\n",
       "2018-01-03  265.428253\n",
       "2018-01-04  266.546997\n",
       "2018-01-05  268.323273\n",
       "2018-01-08  268.813934"
      ]
     },
     "execution_count": 2,
     "metadata": {},
     "output_type": "execute_result"
    }
   ],
   "source": [
    "import datetime\n",
    "start = datetime.datetime(2018, 1, 1)\n",
    "end = datetime.datetime(2019, 1, 1)\n",
    "\n",
    "spy_data = pdr.data.DataReader('SPY', 'yahoo', start, end)\n",
    "spy_data.drop(['High', 'Low', 'Open', 'Close', 'Volume'], axis=1, inplace=True) # these columns are not needed\n",
    "spy_data.head(5)"
   ]
  },
  {
   "cell_type": "markdown",
   "metadata": {},
   "source": [
    "## EWMA za posledních 20 prvků\n",
    "\n",
    "Pokud chci vypočítat EWMA s vlivem posledních 20 prvků na výsledek, váhu vypočítám podle výše zmíněného vzorce:"
   ]
  },
  {
   "cell_type": "code",
   "execution_count": 3,
   "metadata": {},
   "outputs": [
    {
     "data": {
      "text/plain": [
       "0.9"
      ]
     },
     "execution_count": 3,
     "metadata": {},
     "output_type": "execute_result"
    }
   ],
   "source": [
    "p = 20\n",
    "w = 1-(2/p)\n",
    "w"
   ]
  },
  {
   "cell_type": "markdown",
   "metadata": {},
   "source": [
    "EWMA na cenovém grafu se obvykle počítá z Close/Last ceny, vzorec bude vypadat takto:\n",
    "\n",
    "$$\n",
    "y_t = wy_{y-1} + (1-w)c_t\n",
    "$$\n",
    "\n",
    "$y_t$ je hodnota EWMA pro aktuální cenu  \n",
    "$w$ je definovaná váha, kde $w \\in (0,1)$  \n",
    "$y_{t-1}$ je přechozí výsledek EWMA, pokud jde o první hodnotu, obvykle se inicializuje hodnotou 0, nebo aktuální měřenou hodnotou  \n",
    "$c_t$ je aktuální hodnota Close ceny \n",
    "\n",
    "Následující kód slouží pouze pro demonstrativní účely použití vzorce."
   ]
  },
  {
   "cell_type": "code",
   "execution_count": 4,
   "metadata": {},
   "outputs": [
    {
     "data": {
      "text/html": [
       "<div>\n",
       "<style scoped>\n",
       "    .dataframe tbody tr th:only-of-type {\n",
       "        vertical-align: middle;\n",
       "    }\n",
       "\n",
       "    .dataframe tbody tr th {\n",
       "        vertical-align: top;\n",
       "    }\n",
       "\n",
       "    .dataframe thead th {\n",
       "        text-align: right;\n",
       "    }\n",
       "</style>\n",
       "<table border=\"1\" class=\"dataframe\">\n",
       "  <thead>\n",
       "    <tr style=\"text-align: right;\">\n",
       "      <th></th>\n",
       "      <th>Adj Close</th>\n",
       "      <th>EWMA_mannualy</th>\n",
       "    </tr>\n",
       "    <tr>\n",
       "      <th>Date</th>\n",
       "      <th></th>\n",
       "      <th></th>\n",
       "    </tr>\n",
       "  </thead>\n",
       "  <tbody>\n",
       "    <tr>\n",
       "      <th>2018-01-02</th>\n",
       "      <td>263.759949</td>\n",
       "      <td>263.759949</td>\n",
       "    </tr>\n",
       "    <tr>\n",
       "      <th>2018-01-03</th>\n",
       "      <td>265.428253</td>\n",
       "      <td>263.926779</td>\n",
       "    </tr>\n",
       "    <tr>\n",
       "      <th>2018-01-04</th>\n",
       "      <td>266.546997</td>\n",
       "      <td>264.188801</td>\n",
       "    </tr>\n",
       "    <tr>\n",
       "      <th>2018-01-05</th>\n",
       "      <td>268.323273</td>\n",
       "      <td>264.602248</td>\n",
       "    </tr>\n",
       "    <tr>\n",
       "      <th>2018-01-08</th>\n",
       "      <td>268.813934</td>\n",
       "      <td>265.023417</td>\n",
       "    </tr>\n",
       "  </tbody>\n",
       "</table>\n",
       "</div>"
      ],
      "text/plain": [
       "             Adj Close  EWMA_mannualy\n",
       "Date                                 \n",
       "2018-01-02  263.759949     263.759949\n",
       "2018-01-03  265.428253     263.926779\n",
       "2018-01-04  266.546997     264.188801\n",
       "2018-01-05  268.323273     264.602248\n",
       "2018-01-08  268.813934     265.023417"
      ]
     },
     "execution_count": 4,
     "metadata": {},
     "output_type": "execute_result"
    }
   ],
   "source": [
    "spy_data['EWMA_mannualy'] = spy_data['Adj Close']\n",
    "for i in range(spy_data.shape[0]):\n",
    "    if i==0:\n",
    "        spy_data['EWMA_mannualy'][i] = spy_data['Adj Close'][i]\n",
    "        continue\n",
    "    spy_data['EWMA_mannualy'][i] = w*spy_data['EWMA_mannualy'][i-1] + (1-w)*spy_data['Adj Close'][i]\n",
    "\n",
    "spy_data.head()"
   ]
  },
  {
   "cell_type": "markdown",
   "metadata": {},
   "source": [
    "## Pandas využívá tzv. smoothing factor namísto váhy\n",
    "\n",
    "Jednoduché a optimalizované řešení lze naleznout v knihovně Pandas po použití exponenciálně vážené **rolling** funkce `df.ewm()`. Tahle funkce obsahuje parametr `alpha`, který reprezentuje tzv. *smoothing factor*. Pandas namísto váhy používá tento *smoothing factor* k výpočtu takto (zdroj: [dokumentace k pandas](http://pandas.pydata.org/pandas-docs/stable/user_guide/computation.html)):\n",
    "\n",
    "$$\n",
    "y_t = (1-\\alpha)y_{t-1} + \\alpha C_t\n",
    "$$\n",
    "\n",
    "$y_t$ je hodnota EWMA pro aktuální cenu  \n",
    "$\\alpha$ smoothing factor, kde $\\alpha \\in (0,1)$  \n",
    "$y_{t-1}$ je přechozí výsledek EWMA, pokud jde o první hodnotu, obvykle se inicializuje hodnotou 0, nebo aktuální měřenou hodnotou  \n",
    "$C_t$ je aktuální hodnota Close ceny \n",
    "\n",
    "Po odvození lze jednoduše vypočítat **smoothing factor** z váhy:\n",
    "\n",
    "$$\n",
    "\\alpha = 1-w\n",
    "$$\n",
    "\n",
    "$w$ je váha, kde $w \\in (0,1)$  \n",
    "$\\alpha$ smoothing factor, kde $\\alpha \\in (0,1)$  \n",
    "\n",
    "\n",
    "Nebo **smoothing factor** z **periody**:\n",
    "\n",
    "$$\n",
    "\\alpha \\approx \\frac{2}{p}\n",
    "$$\n",
    "\n",
    "$p$ je perioda, kde $p \\geq 1$  \n",
    "$\\alpha$ smoothing factor, kde $\\alpha \\in (0,1)$  \n",
    "\n",
    "*Pozn.: zde se neshodnu s pandas, který periodu označuje jako `span` parametr a v dokumentaci figuruje vzorec $\\alpha = \\frac{2}{p+1}$. To by mi pak ale nekorespondovalo s Andrew Ng.*"
   ]
  },
  {
   "cell_type": "code",
   "execution_count": 5,
   "metadata": {},
   "outputs": [
    {
     "data": {
      "text/plain": [
       "0.09999999999999998"
      ]
     },
     "execution_count": 5,
     "metadata": {},
     "output_type": "execute_result"
    }
   ],
   "source": [
    "a = 1-w\n",
    "a"
   ]
  },
  {
   "cell_type": "markdown",
   "metadata": {},
   "source": [
    "*Případná nepřesnost může být způsobena přesností čísel s desetinnou čárkou - více zde: https://en.wikipedia.org/wiki/Floating-point_arithmetic#Accuracy_problems*"
   ]
  },
  {
   "cell_type": "code",
   "execution_count": 6,
   "metadata": {},
   "outputs": [
    {
     "data": {
      "text/html": [
       "<div>\n",
       "<style scoped>\n",
       "    .dataframe tbody tr th:only-of-type {\n",
       "        vertical-align: middle;\n",
       "    }\n",
       "\n",
       "    .dataframe tbody tr th {\n",
       "        vertical-align: top;\n",
       "    }\n",
       "\n",
       "    .dataframe thead th {\n",
       "        text-align: right;\n",
       "    }\n",
       "</style>\n",
       "<table border=\"1\" class=\"dataframe\">\n",
       "  <thead>\n",
       "    <tr style=\"text-align: right;\">\n",
       "      <th></th>\n",
       "      <th>Adj Close</th>\n",
       "      <th>EWMA_mannualy</th>\n",
       "      <th>EWMA</th>\n",
       "      <th>EWMA_period</th>\n",
       "    </tr>\n",
       "    <tr>\n",
       "      <th>Date</th>\n",
       "      <th></th>\n",
       "      <th></th>\n",
       "      <th></th>\n",
       "      <th></th>\n",
       "    </tr>\n",
       "  </thead>\n",
       "  <tbody>\n",
       "    <tr>\n",
       "      <th>2018-01-02</th>\n",
       "      <td>263.759949</td>\n",
       "      <td>263.759949</td>\n",
       "      <td>263.759949</td>\n",
       "      <td>263.759949</td>\n",
       "    </tr>\n",
       "    <tr>\n",
       "      <th>2018-01-03</th>\n",
       "      <td>265.428253</td>\n",
       "      <td>263.926779</td>\n",
       "      <td>263.926779</td>\n",
       "      <td>263.918835</td>\n",
       "    </tr>\n",
       "    <tr>\n",
       "      <th>2018-01-04</th>\n",
       "      <td>266.546997</td>\n",
       "      <td>264.188801</td>\n",
       "      <td>264.188801</td>\n",
       "      <td>264.169136</td>\n",
       "    </tr>\n",
       "    <tr>\n",
       "      <th>2018-01-05</th>\n",
       "      <td>268.323273</td>\n",
       "      <td>264.602248</td>\n",
       "      <td>264.602248</td>\n",
       "      <td>264.564768</td>\n",
       "    </tr>\n",
       "    <tr>\n",
       "      <th>2018-01-08</th>\n",
       "      <td>268.813934</td>\n",
       "      <td>265.023417</td>\n",
       "      <td>265.023417</td>\n",
       "      <td>264.969451</td>\n",
       "    </tr>\n",
       "  </tbody>\n",
       "</table>\n",
       "</div>"
      ],
      "text/plain": [
       "             Adj Close  EWMA_mannualy        EWMA  EWMA_period\n",
       "Date                                                          \n",
       "2018-01-02  263.759949     263.759949  263.759949   263.759949\n",
       "2018-01-03  265.428253     263.926779  263.926779   263.918835\n",
       "2018-01-04  266.546997     264.188801  264.188801   264.169136\n",
       "2018-01-05  268.323273     264.602248  264.602248   264.564768\n",
       "2018-01-08  268.813934     265.023417  265.023417   264.969451"
      ]
     },
     "execution_count": 6,
     "metadata": {},
     "output_type": "execute_result"
    }
   ],
   "source": [
    "spy_data['EWMA'] = spy_data['Adj Close'].ewm(alpha=0.1, adjust=False).mean()\n",
    "spy_data['EWMA_period'] = spy_data['Adj Close'].ewm(span=p, adjust=False).mean()\n",
    "spy_data.head()"
   ]
  },
  {
   "cell_type": "markdown",
   "metadata": {},
   "source": [
    "Pro názornost rozdílu mezi jednoduchým klouzavým průměrem (Simple Moving Average) a EWMA uvedu příklad:"
   ]
  },
  {
   "cell_type": "code",
   "execution_count": 7,
   "metadata": {},
   "outputs": [],
   "source": [
    "spy_data['SMA'] = spy_data['Adj Close'].rolling(p).mean()"
   ]
  },
  {
   "cell_type": "markdown",
   "metadata": {},
   "source": [
    "A nakonec si průmery zobrazím v grafu:"
   ]
  },
  {
   "cell_type": "code",
   "execution_count": 8,
   "metadata": {},
   "outputs": [],
   "source": [
    "spy_data[['Adj Close', 'EWMA_mannualy', 'EWMA', 'EWMA_period', 'SMA']].plot(figsize=(16,10));"
   ]
  },
  {
   "cell_type": "markdown",
   "metadata": {},
   "source": [
    "Je jednoznačně vidět, že všechny výpočty EWMA se téměř překrývají. Výpočty by měly být správné. SMA je zde jako příklad, že EWMA se dokáže rychleji přizpůsobovat posledním hodnotám."
   ]
  },
  {
   "cell_type": "markdown",
   "metadata": {},
   "source": [
    "# Shrnutí\n",
    "\n",
    "Klouzavé průměry se používají ke zjištění průměrné hodnoty za nejbližší poslední dobu, nebo k vyhlazení roztroušených dat do jedné průměrné hodnoty. Doba je dána periodou (např. 30 dní zpět). Exponenciálně vážené klouzavé průměry (EWMA) dávají vyšší váhu bližší historii, pro čím dál starší data klesá důležitost exponenciálně.\n",
    "\n",
    "Rozdíl mezi SMA (jednoduchý klouzavý průměr) a EWMA pro stejnou periodu je, že EWMA se rychleji přizpůsobuje posledním změnám. Pokud je EWMA v této jednoduché formě, SMA může být výpočetně náročenější. Např. SMA s periodou 20 musí získat data 20 posledních period, ty sečíst a nakonec vydělit 20. U EWMA stačí vědět předchozí hodnota EWMA vynásobit určitou váhou a přičíst aktuální měřenou hodnotu vynásobenou o mnohem větší váhu.\n",
    "\n",
    "EWMA lze využít i u dalších jiných odvětví, nejen ve financích. EWMA pro jednoduchost výpočtu může být použito k agregaci velkého množství dat třeba v Data miningu nebo umělé inteligenci. Díky klouzavým průměrům lze zjistit jak jsou hodnoty vzdálené od svého průměru, popřípadě jaké má průměr tendence a zjišťovat trend - klesá, stoupá.\n",
    "\n",
    "Mně osobně se líbí jednoduchost a nenáročnost výpočtu EWMA a schopnost EWMA se rychleji adaptovat na aktuální trendy."
   ]
  },
  {
   "cell_type": "markdown",
   "metadata": {},
   "source": [
    "# Zdroje\n",
    "\n",
    "- [Youtube - Exponentially Weighted Averages](https://www.youtube.com/watch?v=lAq96T8FkTw)\n",
    "- [Pandas dokumentace k ewm](https://pandas.pydata.org/pandas-docs/stable/reference/api/pandas.DataFrame.ewm.html)\n",
    "- [Pandas dokumentace k exponentially-weighted windows](http://pandas.pydata.org/pandas-docs/stable/user_guide/computation.html#exponentially-weighted-windows)\n",
    "- [Wikipedia - Weighted arithmetic mean](https://en.wikipedia.org/wiki/Weighted_arithmetic_mean#Weighted_sample_variance)\n",
    "- [Stackoverflow - Create a rolling custom EWMA on a pandas dataframe](https://stackoverflow.com/questions/38836482/create-a-rolling-custom-ewma-on-a-pandas-dataframe)\n",
    "- [Youtube - Bias Correction of Exponentially Weighted Averages](https://www.youtube.com/watch?v=lWzo8CajF5s)\n",
    "- [Wikipedia - Floating-point arithmetic](https://en.wikipedia.org/wiki/Floating-point_arithmetic)"
   ]
  }
 ],
 "metadata": {
  "kernelspec": {
   "display_name": "Python 3",
   "language": "python",
   "name": "python3"
  },
  "language_info": {
   "codemirror_mode": {
    "name": "ipython",
    "version": 3
   },
   "file_extension": ".py",
   "mimetype": "text/x-python",
   "name": "python",
   "nbconvert_exporter": "python",
   "pygments_lexer": "ipython3",
   "version": "3.7.2"
  }
 },
 "nbformat": 4,
 "nbformat_minor": 2
}
