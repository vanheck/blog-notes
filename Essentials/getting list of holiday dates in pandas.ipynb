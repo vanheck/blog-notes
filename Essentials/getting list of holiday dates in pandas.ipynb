{
 "cells": [
  {
   "cell_type": "code",
   "execution_count": 9,
   "metadata": {},
   "outputs": [
    {
     "name": "stdout",
     "output_type": "stream",
     "text": [
      "Python: 3.7.3 (default, Mar 27 2019, 17:13:21) [MSC v.1915 64 bit (AMD64)]\n",
      "Pandas: 0.24.2\n",
      "Requests: 2.21.0\n"
     ]
    }
   ],
   "source": [
    "import sys\n",
    "print('Python:', sys.version)\n",
    "import pandas as pd\n",
    "print('Pandas:', pd.__version__)\n",
    "import requests\n",
    "print('Requests:', requests.__version__)"
   ]
  },
  {
   "cell_type": "markdown",
   "metadata": {},
   "source": [
    "# Jak získat datum státních svátku pro dané období pro analýzu v Pandas?\n",
    "\n",
    "V pandas existuje způsob jak pracovat s datem a celkově kalendářem. Lze např. podle připraveného kalendáře filtrovat data a provádět tzv. analýzu sezónnosti. V tomto článku se zaměřím, jak na získání seznamu státních svátku v US pro dané časové období.\n",
    "\n",
    "Funkcionalita svátků v pandas lze udělat pomocí [Holidays / Holiday Calendars](https://pandas.pydata.org/pandas-docs/stable/user_guide/timeseries.html#holidays-holiday-calendars), která využívá třídy `AbstractHolidayCalendar` z modulu `pandas.holiday`. Modul `pandas.holiday` mimo jiné obsahuje nějaké předdefinované typy US svátků.\n",
    "\n",
    "Pro vytvoření seznamu US svátků jednoduše rozšířím třídu `AbstractHolidayCalendar` o svůj vlastní seznam svátků v atributu třídy s názvem `rules`. Pokud chci přidat do seznamu vlastní svátek, který není defaultně v modulu `pandas.holiday`, můžu si ho vytvořit pomocí třídy `pandas.holiday.Holiday`.\n",
    "\n",
    "Příklad vytváření seznamu US svátků:"
   ]
  },
  {
   "cell_type": "code",
   "execution_count": 3,
   "metadata": {},
   "outputs": [],
   "source": [
    "import datetime as dt\n",
    "\n",
    "from pandas.tseries.holiday import AbstractHolidayCalendar, Holiday, nearest_workday, \\\n",
    "    USMartinLutherKingJr, USPresidentsDay, GoodFriday, USMemorialDay, \\\n",
    "    USLaborDay, USThanksgivingDay\n",
    "\n",
    "\n",
    "class USTradingCalendar(AbstractHolidayCalendar):\n",
    "    rules = [\n",
    "        Holiday('NewYearsDay', month=1, day=1, observance=nearest_workday),\n",
    "        USMartinLutherKingJr,\n",
    "        USPresidentsDay,\n",
    "        GoodFriday,\n",
    "        USMemorialDay,\n",
    "        Holiday('USIndependenceDay', month=7, day=4, observance=nearest_workday),\n",
    "        USLaborDay,\n",
    "        USThanksgivingDay,\n",
    "        Holiday('Christmas', month=12, day=25, observance=nearest_workday)\n",
    "    ]\n",
    "\n",
    "\n",
    "def get_trading_close_holidays(date_from, date_to):\n",
    "    inst = USTradingCalendar()\n",
    "    return inst.holidays(date_from, date_to)"
   ]
  },
  {
   "cell_type": "code",
   "execution_count": 5,
   "metadata": {},
   "outputs": [
    {
     "data": {
      "text/plain": [
       "DatetimeIndex(['2015-01-01', '2015-01-19', '2015-02-16', '2015-04-03',\n",
       "               '2015-05-25', '2015-07-03', '2015-09-07', '2015-11-26',\n",
       "               '2015-12-25', '2016-01-01', '2016-01-18', '2016-02-15',\n",
       "               '2016-03-25', '2016-05-30', '2016-07-04', '2016-09-05',\n",
       "               '2016-11-24', '2016-12-26', '2017-01-02', '2017-01-16',\n",
       "               '2017-02-20', '2017-04-14', '2017-05-29', '2017-07-04',\n",
       "               '2017-09-04', '2017-11-23', '2017-12-25', '2018-01-01',\n",
       "               '2018-01-15', '2018-02-19', '2018-03-30', '2018-05-28',\n",
       "               '2018-07-04', '2018-09-03', '2018-11-22', '2018-12-25',\n",
       "               '2019-01-01', '2019-01-21', '2019-02-18', '2019-04-19',\n",
       "               '2019-05-27', '2019-07-04', '2019-09-02', '2019-11-28',\n",
       "               '2019-12-25', '2020-01-01', '2020-01-20', '2020-02-17',\n",
       "               '2020-04-10', '2020-05-25', '2020-07-03', '2020-09-07',\n",
       "               '2020-11-26', '2020-12-25'],\n",
       "              dtype='datetime64[ns]', freq=None)"
      ]
     },
     "execution_count": 5,
     "metadata": {},
     "output_type": "execute_result"
    }
   ],
   "source": [
    "date_from = dt.datetime(2015, 1, 1)\n",
    "date_to = dt.datetime(2020, 12, 31)\n",
    "holidays = get_trading_close_holidays(date_from, date_to)\n",
    "holidays"
   ]
  },
  {
   "cell_type": "markdown",
   "metadata": {},
   "source": [
    "# Další alternativy\n",
    "\n",
    "## US svátky na internetu\n",
    "\n",
    "Krom modulu `pandas.holiday`, je možno použít stažení tabulky dat pomocí knihovnz `requests` a `pandas.read_html` například z webu CME https://www.cmegroup.com/tools-information/holiday-calendar.html, popřípadě i z Wikipedie - https://en.wikipedia.org/wiki/Public_holidays_in_the_United_States. Bohužel takto stažená data se musí ještě ručně upravit a přeparsovat.\n",
    "\n",
    "Příklad získání US státních svátků z CME:"
   ]
  },
  {
   "cell_type": "code",
   "execution_count": 7,
   "metadata": {},
   "outputs": [
    {
     "data": {
      "text/html": [
       "<div>\n",
       "<style scoped>\n",
       "    .dataframe tbody tr th:only-of-type {\n",
       "        vertical-align: middle;\n",
       "    }\n",
       "\n",
       "    .dataframe tbody tr th {\n",
       "        vertical-align: top;\n",
       "    }\n",
       "\n",
       "    .dataframe thead th {\n",
       "        text-align: right;\n",
       "    }\n",
       "</style>\n",
       "<table border=\"1\" class=\"dataframe\">\n",
       "  <thead>\n",
       "    <tr style=\"text-align: right;\">\n",
       "      <th></th>\n",
       "      <th>U.S. Holiday</th>\n",
       "      <th>Includes the following dates:</th>\n",
       "      <th>Excel</th>\n",
       "      <th>Compact Excel</th>\n",
       "    </tr>\n",
       "  </thead>\n",
       "  <tbody>\n",
       "    <tr>\n",
       "      <th>0</th>\n",
       "      <td>Dr. Martin Luther King, Jr.</td>\n",
       "      <td>18-22 January 2019</td>\n",
       "      <td>Dr. Martin Luther King, Jr.</td>\n",
       "      <td>Dr. Martin Luther King, Jr.</td>\n",
       "    </tr>\n",
       "    <tr>\n",
       "      <th>1</th>\n",
       "      <td>President's Day</td>\n",
       "      <td>15- 19 February 2019</td>\n",
       "      <td>President's Day</td>\n",
       "      <td>President's Day</td>\n",
       "    </tr>\n",
       "    <tr>\n",
       "      <th>2</th>\n",
       "      <td>Good Friday</td>\n",
       "      <td>18- 22 April 2019</td>\n",
       "      <td>Good Friday</td>\n",
       "      <td>Good Friday</td>\n",
       "    </tr>\n",
       "    <tr>\n",
       "      <th>3</th>\n",
       "      <td>Memorial Day</td>\n",
       "      <td>24 - 28 May 2019</td>\n",
       "      <td>Memorial Day</td>\n",
       "      <td>Memorial Day</td>\n",
       "    </tr>\n",
       "    <tr>\n",
       "      <th>4</th>\n",
       "      <td>Independence Day</td>\n",
       "      <td>3-5 July 2019</td>\n",
       "      <td>Independence Day</td>\n",
       "      <td>Independence Day</td>\n",
       "    </tr>\n",
       "    <tr>\n",
       "      <th>5</th>\n",
       "      <td>Labor Day</td>\n",
       "      <td>30 August - 3 September</td>\n",
       "      <td>Labor Day</td>\n",
       "      <td>Labor Day</td>\n",
       "    </tr>\n",
       "    <tr>\n",
       "      <th>6</th>\n",
       "      <td>Thanksgiving</td>\n",
       "      <td>27- 29 November 2019</td>\n",
       "      <td>Thanksgiving</td>\n",
       "      <td>Thanksgiving</td>\n",
       "    </tr>\n",
       "    <tr>\n",
       "      <th>7</th>\n",
       "      <td>Christmas</td>\n",
       "      <td>24-26 December 2019</td>\n",
       "      <td>Christmas</td>\n",
       "      <td>Christmas</td>\n",
       "    </tr>\n",
       "    <tr>\n",
       "      <th>8</th>\n",
       "      <td>New Year’s</td>\n",
       "      <td>31 December 2019 - 2 January 2020</td>\n",
       "      <td>New Year’s</td>\n",
       "      <td>New Year’s</td>\n",
       "    </tr>\n",
       "  </tbody>\n",
       "</table>\n",
       "</div>"
      ],
      "text/plain": [
       "                  U.S. Holiday      Includes the following dates:  \\\n",
       "0  Dr. Martin Luther King, Jr.                 18-22 January 2019   \n",
       "1              President's Day               15- 19 February 2019   \n",
       "2                  Good Friday                  18- 22 April 2019   \n",
       "3                 Memorial Day                   24 - 28 May 2019   \n",
       "4             Independence Day                      3-5 July 2019   \n",
       "5                    Labor Day            30 August - 3 September   \n",
       "6                 Thanksgiving               27- 29 November 2019   \n",
       "7                    Christmas                24-26 December 2019   \n",
       "8                   New Year’s  31 December 2019 - 2 January 2020   \n",
       "\n",
       "                         Excel                Compact Excel  \n",
       "0  Dr. Martin Luther King, Jr.  Dr. Martin Luther King, Jr.  \n",
       "1              President's Day              President's Day  \n",
       "2                  Good Friday                  Good Friday  \n",
       "3                 Memorial Day                 Memorial Day  \n",
       "4             Independence Day             Independence Day  \n",
       "5                    Labor Day                    Labor Day  \n",
       "6                 Thanksgiving                 Thanksgiving  \n",
       "7                    Christmas                    Christmas  \n",
       "8                   New Year’s                   New Year’s  "
      ]
     },
     "execution_count": 7,
     "metadata": {},
     "output_type": "execute_result"
    }
   ],
   "source": [
    "CME_HOLIDAY_CALENDAR_URL = 'https://www.cmegroup.com/tools-information/holiday-calendar.html'\n",
    "\n",
    "import pandas as pd\n",
    "import requests\n",
    "r = requests.get(CME_HOLIDAY_CALENDAR_URL)\n",
    "holiday_calendar = pd.read_html(r.text)[0]\n",
    "holiday_calendar"
   ]
  },
  {
   "cell_type": "code",
   "execution_count": 8,
   "metadata": {},
   "outputs": [
    {
     "data": {
      "text/plain": [
       "0                   18-22 January 2019\n",
       "1                 15- 19 February 2019\n",
       "2                    18- 22 April 2019\n",
       "3                     24 - 28 May 2019\n",
       "4                        3-5 July 2019\n",
       "5              30 August - 3 September\n",
       "6                 27- 29 November 2019\n",
       "7                  24-26 December 2019\n",
       "8    31 December 2019 - 2 January 2020\n",
       "Name: Includes the following dates:, dtype: object"
      ]
     },
     "execution_count": 8,
     "metadata": {},
     "output_type": "execute_result"
    }
   ],
   "source": [
    "dates = holiday_calendar['Includes the following dates:']\n",
    "dates"
   ]
  },
  {
   "cell_type": "markdown",
   "metadata": {},
   "source": [
    "*Parsováním dat se v dnešním článku zabývat nebudu.*"
   ]
  },
  {
   "cell_type": "markdown",
   "metadata": {},
   "source": [
    "## Package holidays\n",
    "\n",
    "Státní svátky i pro jiné země je možné získat pomocí open source package `python-holidays`, dostupné na githubu: https://github.com/dr-prodigy/python-holidays. Tohle ale vyžaduje instalaci dalšího package a ve zdrojích se právě US svátky stahují a parsují právě z Wikipedie *(holidays v0.9.10)*."
   ]
  },
  {
   "cell_type": "markdown",
   "metadata": {},
   "source": [
    "# Zdoje\n",
    "\n",
    "* [Dokumentace Pandas - Holidays / Holiday Calendars](https://pandas.pydata.org/pandas-docs/stable/user_guide/timeseries.html#holidays-holiday-calendars)\n",
    "* [Stackoverflow - Create trading holiday calendar with Pandas](https://stackoverflow.com/questions/33094297/create-trading-holiday-calendar-with-pandas)\n",
    "* [Wikipedia - Public holidays in the United States](https://en.wikipedia.org/wiki/Public_holidays_in_the_United_States)\n",
    "* [CME Group Holiday Calendar](https://www.cmegroup.com/tools-information/holiday-calendar.html)\n",
    "* [GitHub projekt python-holidays](https://github.com/dr-prodigy/python-holidays)\n",
    "* [Managing Calendars of Holidays in Time Series Prediction Projects](https://medium.com/sbc-group-blog/every-data-scientist-likes-to-spend-more-time-on-cool-fun-things-like-exploring-new-datasets-206800b76e3b)"
   ]
  }
 ],
 "metadata": {
  "kernelspec": {
   "display_name": "Python 3",
   "language": "python",
   "name": "python3"
  },
  "language_info": {
   "codemirror_mode": {
    "name": "ipython",
    "version": 3
   },
   "file_extension": ".py",
   "mimetype": "text/x-python",
   "name": "python",
   "nbconvert_exporter": "python",
   "pygments_lexer": "ipython3",
   "version": "3.7.3"
  }
 },
 "nbformat": 4,
 "nbformat_minor": 2
}
