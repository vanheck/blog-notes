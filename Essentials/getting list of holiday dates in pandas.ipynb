{
 "cells": [
  {
   "cell_type": "code",
   "execution_count": 6,
   "metadata": {},
   "outputs": [
    {
     "name": "stdout",
     "output_type": "stream",
     "text": [
      "Python: 3.7.3 (default, Mar 27 2019, 17:13:21) [MSC v.1915 64 bit (AMD64)]\n",
      "Pandas: 0.24.2\n"
     ]
    }
   ],
   "source": [
    "import sys\n",
    "print('Python:', sys.version)\n",
    "import pandas as pd\n",
    "print('Pandas:', pd.__version__)"
   ]
  },
  {
   "cell_type": "markdown",
   "metadata": {},
   "source": [
    "# Jak získat datum státních svátku pro dané období pro analýzu v Pandas?\n",
    "\n",
    "V pandas existuje způsob jak pracovat s datem a celkově kalendářem. Lze např. podle připraveného kalendáře filtrovat data a provádět tzv. analýzu sezónnosti. V tomto článku se zaměřím, jak na získání seznamu státních svátku v US pro dané časové období.\n",
    "\n",
    "Funkcionalita svátků v pandas lze udělat pomocí [Holidays / Holiday Calendars](https://pandas.pydata.org/pandas-docs/stable/user_guide/timeseries.html#holidays-holiday-calendars), která využívá třídy `AbstractHolidayCalendar` z modulu `pandas.holiday`. Modul `pandas.holiday` mimo jiné obsahuje nějaké předdefinované typy US svátků.\n",
    "\n",
    "Pro vytvoření seznamu US svátků jednoduše rozšířím třídu `AbstractHolidayCalendar` o svůj vlastní seznam svátků v atributu třídy s názvem `rules`. Pokud chci přidat do seznamu vlastní svátek, který není defaultně v modulu `pandas.holiday`, můžu si ho vytvořit pomocí třídy `pandas.holiday.Holiday`.\n",
    "\n",
    "Příklad vytváření seznamu US svátků:"
   ]
  },
  {
   "cell_type": "code",
   "execution_count": 3,
   "metadata": {},
   "outputs": [],
   "source": [
    "import datetime as dt\n",
    "\n",
    "from pandas.tseries.holiday import AbstractHolidayCalendar, Holiday, nearest_workday, \\\n",
    "    USMartinLutherKingJr, USPresidentsDay, GoodFriday, USMemorialDay, \\\n",
    "    USLaborDay, USThanksgivingDay\n",
    "\n",
    "\n",
    "class USTradingCalendar(AbstractHolidayCalendar):\n",
    "    rules = [\n",
    "        Holiday('NewYearsDay', month=1, day=1, observance=nearest_workday),\n",
    "        USMartinLutherKingJr,\n",
    "        USPresidentsDay,\n",
    "        GoodFriday,\n",
    "        USMemorialDay,\n",
    "        Holiday('USIndependenceDay', month=7, day=4, observance=nearest_workday),\n",
    "        USLaborDay,\n",
    "        USThanksgivingDay,\n",
    "        Holiday('Christmas', month=12, day=25, observance=nearest_workday)\n",
    "    ]\n",
    "\n",
    "\n",
    "def get_trading_close_holidays(date_from, date_to):\n",
    "    inst = USTradingCalendar()\n",
    "    return inst.holidays(date_from, date_to)"
   ]
  },
  {
   "cell_type": "code",
   "execution_count": 5,
   "metadata": {},
   "outputs": [
    {
     "data": {
      "text/plain": [
       "DatetimeIndex(['2015-01-01', '2015-01-19', '2015-02-16', '2015-04-03',\n",
       "               '2015-05-25', '2015-07-03', '2015-09-07', '2015-11-26',\n",
       "               '2015-12-25', '2016-01-01', '2016-01-18', '2016-02-15',\n",
       "               '2016-03-25', '2016-05-30', '2016-07-04', '2016-09-05',\n",
       "               '2016-11-24', '2016-12-26', '2017-01-02', '2017-01-16',\n",
       "               '2017-02-20', '2017-04-14', '2017-05-29', '2017-07-04',\n",
       "               '2017-09-04', '2017-11-23', '2017-12-25', '2018-01-01',\n",
       "               '2018-01-15', '2018-02-19', '2018-03-30', '2018-05-28',\n",
       "               '2018-07-04', '2018-09-03', '2018-11-22', '2018-12-25',\n",
       "               '2019-01-01', '2019-01-21', '2019-02-18', '2019-04-19',\n",
       "               '2019-05-27', '2019-07-04', '2019-09-02', '2019-11-28',\n",
       "               '2019-12-25', '2020-01-01', '2020-01-20', '2020-02-17',\n",
       "               '2020-04-10', '2020-05-25', '2020-07-03', '2020-09-07',\n",
       "               '2020-11-26', '2020-12-25'],\n",
       "              dtype='datetime64[ns]', freq=None)"
      ]
     },
     "execution_count": 5,
     "metadata": {},
     "output_type": "execute_result"
    }
   ],
   "source": [
    "date_from = dt.datetime(2015, 1, 1)\n",
    "date_to = dt.datetime(2020, 12, 31)\n",
    "holidays = get_trading_close_holidays(date_from, date_to)\n",
    "holidays"
   ]
  }
 ],
 "metadata": {
  "kernelspec": {
   "display_name": "Python 3",
   "language": "python",
   "name": "python3"
  },
  "language_info": {
   "codemirror_mode": {
    "name": "ipython",
    "version": 3
   },
   "file_extension": ".py",
   "mimetype": "text/x-python",
   "name": "python",
   "nbconvert_exporter": "python",
   "pygments_lexer": "ipython3",
   "version": "3.7.3"
  }
 },
 "nbformat": 4,
 "nbformat_minor": 2
}
